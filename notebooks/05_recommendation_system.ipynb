{
 "cells": [
  {
   "cell_type": "markdown",
   "id": "9eba7cd7",
   "metadata": {},
   "source": [
    "# Recommendation Modle"
   ]
  },
  {
   "cell_type": "markdown",
   "id": "20bf3b8f",
   "metadata": {},
   "source": [
    "### Import Libraries"
   ]
  },
  {
   "cell_type": "code",
   "execution_count": 1,
   "id": "25f1a359",
   "metadata": {},
   "outputs": [],
   "source": [
    "import numpy as np\n",
    "import pandas as pd\n",
    "import seaborn as sns \n",
    "import matplotlib.pyplot as plt\n",
    "import altair\n",
    "from sklearn.metrics.pairwise import cosine_similarity\n",
    "import joblib"
   ]
  },
  {
   "cell_type": "markdown",
   "id": "5a61976e",
   "metadata": {},
   "source": [
    "### Load dataset"
   ]
  },
  {
   "cell_type": "code",
   "execution_count": 2,
   "id": "2e6dce67",
   "metadata": {},
   "outputs": [],
   "source": [
    "df = pd.read_csv(\"../data/processed/Recommendation/Recommendation_model.csv\")"
   ]
  },
  {
   "cell_type": "code",
   "execution_count": 3,
   "id": "c3bb77fb",
   "metadata": {},
   "outputs": [
    {
     "data": {
      "text/html": [
       "<div>\n",
       "<style scoped>\n",
       "    .dataframe tbody tr th:only-of-type {\n",
       "        vertical-align: middle;\n",
       "    }\n",
       "\n",
       "    .dataframe tbody tr th {\n",
       "        vertical-align: top;\n",
       "    }\n",
       "\n",
       "    .dataframe thead th {\n",
       "        text-align: right;\n",
       "    }\n",
       "</style>\n",
       "<table border=\"1\" class=\"dataframe\">\n",
       "  <thead>\n",
       "    <tr style=\"text-align: right;\">\n",
       "      <th></th>\n",
       "      <th>InvoiceNo</th>\n",
       "      <th>StockCode</th>\n",
       "      <th>Description</th>\n",
       "      <th>Quantity</th>\n",
       "      <th>InvoiceDate</th>\n",
       "      <th>UnitPrice</th>\n",
       "      <th>CustomerID</th>\n",
       "      <th>Country</th>\n",
       "      <th>TotalPrice</th>\n",
       "      <th>InvoiceDateOnly</th>\n",
       "      <th>InvoiceDayOfWeek</th>\n",
       "      <th>InvoiceMonth</th>\n",
       "      <th>InvoiceHour</th>\n",
       "    </tr>\n",
       "  </thead>\n",
       "  <tbody>\n",
       "    <tr>\n",
       "      <th>0</th>\n",
       "      <td>536365</td>\n",
       "      <td>85123A</td>\n",
       "      <td>WHITE HANGING HEART T-LIGHT HOLDER</td>\n",
       "      <td>6</td>\n",
       "      <td>2022-12-01 08:26:00</td>\n",
       "      <td>2.55</td>\n",
       "      <td>17850.0</td>\n",
       "      <td>United Kingdom</td>\n",
       "      <td>15.30</td>\n",
       "      <td>2022-12-01</td>\n",
       "      <td>Thursday</td>\n",
       "      <td>December</td>\n",
       "      <td>8</td>\n",
       "    </tr>\n",
       "    <tr>\n",
       "      <th>1</th>\n",
       "      <td>536365</td>\n",
       "      <td>71053</td>\n",
       "      <td>WHITE METAL LANTERN</td>\n",
       "      <td>6</td>\n",
       "      <td>2022-12-01 08:26:00</td>\n",
       "      <td>3.39</td>\n",
       "      <td>17850.0</td>\n",
       "      <td>United Kingdom</td>\n",
       "      <td>20.34</td>\n",
       "      <td>2022-12-01</td>\n",
       "      <td>Thursday</td>\n",
       "      <td>December</td>\n",
       "      <td>8</td>\n",
       "    </tr>\n",
       "    <tr>\n",
       "      <th>2</th>\n",
       "      <td>536365</td>\n",
       "      <td>84406B</td>\n",
       "      <td>CREAM CUPID HEARTS COAT HANGER</td>\n",
       "      <td>8</td>\n",
       "      <td>2022-12-01 08:26:00</td>\n",
       "      <td>2.75</td>\n",
       "      <td>17850.0</td>\n",
       "      <td>United Kingdom</td>\n",
       "      <td>22.00</td>\n",
       "      <td>2022-12-01</td>\n",
       "      <td>Thursday</td>\n",
       "      <td>December</td>\n",
       "      <td>8</td>\n",
       "    </tr>\n",
       "    <tr>\n",
       "      <th>3</th>\n",
       "      <td>536365</td>\n",
       "      <td>84029G</td>\n",
       "      <td>KNITTED UNION FLAG HOT WATER BOTTLE</td>\n",
       "      <td>6</td>\n",
       "      <td>2022-12-01 08:26:00</td>\n",
       "      <td>3.39</td>\n",
       "      <td>17850.0</td>\n",
       "      <td>United Kingdom</td>\n",
       "      <td>20.34</td>\n",
       "      <td>2022-12-01</td>\n",
       "      <td>Thursday</td>\n",
       "      <td>December</td>\n",
       "      <td>8</td>\n",
       "    </tr>\n",
       "    <tr>\n",
       "      <th>4</th>\n",
       "      <td>536365</td>\n",
       "      <td>84029E</td>\n",
       "      <td>RED WOOLLY HOTTIE WHITE HEART.</td>\n",
       "      <td>6</td>\n",
       "      <td>2022-12-01 08:26:00</td>\n",
       "      <td>3.39</td>\n",
       "      <td>17850.0</td>\n",
       "      <td>United Kingdom</td>\n",
       "      <td>20.34</td>\n",
       "      <td>2022-12-01</td>\n",
       "      <td>Thursday</td>\n",
       "      <td>December</td>\n",
       "      <td>8</td>\n",
       "    </tr>\n",
       "    <tr>\n",
       "      <th>...</th>\n",
       "      <td>...</td>\n",
       "      <td>...</td>\n",
       "      <td>...</td>\n",
       "      <td>...</td>\n",
       "      <td>...</td>\n",
       "      <td>...</td>\n",
       "      <td>...</td>\n",
       "      <td>...</td>\n",
       "      <td>...</td>\n",
       "      <td>...</td>\n",
       "      <td>...</td>\n",
       "      <td>...</td>\n",
       "      <td>...</td>\n",
       "    </tr>\n",
       "    <tr>\n",
       "      <th>397879</th>\n",
       "      <td>581587</td>\n",
       "      <td>22613</td>\n",
       "      <td>PACK OF 20 SPACEBOY NAPKINS</td>\n",
       "      <td>12</td>\n",
       "      <td>2023-12-09 12:50:00</td>\n",
       "      <td>0.85</td>\n",
       "      <td>12680.0</td>\n",
       "      <td>France</td>\n",
       "      <td>10.20</td>\n",
       "      <td>2023-12-09</td>\n",
       "      <td>Saturday</td>\n",
       "      <td>December</td>\n",
       "      <td>12</td>\n",
       "    </tr>\n",
       "    <tr>\n",
       "      <th>397880</th>\n",
       "      <td>581587</td>\n",
       "      <td>22899</td>\n",
       "      <td>CHILDREN'S APRON DOLLY GIRL</td>\n",
       "      <td>6</td>\n",
       "      <td>2023-12-09 12:50:00</td>\n",
       "      <td>2.10</td>\n",
       "      <td>12680.0</td>\n",
       "      <td>France</td>\n",
       "      <td>12.60</td>\n",
       "      <td>2023-12-09</td>\n",
       "      <td>Saturday</td>\n",
       "      <td>December</td>\n",
       "      <td>12</td>\n",
       "    </tr>\n",
       "    <tr>\n",
       "      <th>397881</th>\n",
       "      <td>581587</td>\n",
       "      <td>23254</td>\n",
       "      <td>CHILDRENS CUTLERY DOLLY GIRL</td>\n",
       "      <td>4</td>\n",
       "      <td>2023-12-09 12:50:00</td>\n",
       "      <td>4.15</td>\n",
       "      <td>12680.0</td>\n",
       "      <td>France</td>\n",
       "      <td>16.60</td>\n",
       "      <td>2023-12-09</td>\n",
       "      <td>Saturday</td>\n",
       "      <td>December</td>\n",
       "      <td>12</td>\n",
       "    </tr>\n",
       "    <tr>\n",
       "      <th>397882</th>\n",
       "      <td>581587</td>\n",
       "      <td>23255</td>\n",
       "      <td>CHILDRENS CUTLERY CIRCUS PARADE</td>\n",
       "      <td>4</td>\n",
       "      <td>2023-12-09 12:50:00</td>\n",
       "      <td>4.15</td>\n",
       "      <td>12680.0</td>\n",
       "      <td>France</td>\n",
       "      <td>16.60</td>\n",
       "      <td>2023-12-09</td>\n",
       "      <td>Saturday</td>\n",
       "      <td>December</td>\n",
       "      <td>12</td>\n",
       "    </tr>\n",
       "    <tr>\n",
       "      <th>397883</th>\n",
       "      <td>581587</td>\n",
       "      <td>22138</td>\n",
       "      <td>BAKING SET 9 PIECE RETROSPOT</td>\n",
       "      <td>3</td>\n",
       "      <td>2023-12-09 12:50:00</td>\n",
       "      <td>4.95</td>\n",
       "      <td>12680.0</td>\n",
       "      <td>France</td>\n",
       "      <td>14.85</td>\n",
       "      <td>2023-12-09</td>\n",
       "      <td>Saturday</td>\n",
       "      <td>December</td>\n",
       "      <td>12</td>\n",
       "    </tr>\n",
       "  </tbody>\n",
       "</table>\n",
       "<p>397884 rows × 13 columns</p>\n",
       "</div>"
      ],
      "text/plain": [
       "        InvoiceNo StockCode                          Description  Quantity  \\\n",
       "0          536365    85123A   WHITE HANGING HEART T-LIGHT HOLDER         6   \n",
       "1          536365     71053                  WHITE METAL LANTERN         6   \n",
       "2          536365    84406B       CREAM CUPID HEARTS COAT HANGER         8   \n",
       "3          536365    84029G  KNITTED UNION FLAG HOT WATER BOTTLE         6   \n",
       "4          536365    84029E       RED WOOLLY HOTTIE WHITE HEART.         6   \n",
       "...           ...       ...                                  ...       ...   \n",
       "397879     581587     22613          PACK OF 20 SPACEBOY NAPKINS        12   \n",
       "397880     581587     22899         CHILDREN'S APRON DOLLY GIRL          6   \n",
       "397881     581587     23254        CHILDRENS CUTLERY DOLLY GIRL          4   \n",
       "397882     581587     23255      CHILDRENS CUTLERY CIRCUS PARADE         4   \n",
       "397883     581587     22138        BAKING SET 9 PIECE RETROSPOT          3   \n",
       "\n",
       "                InvoiceDate  UnitPrice  CustomerID         Country  \\\n",
       "0       2022-12-01 08:26:00       2.55     17850.0  United Kingdom   \n",
       "1       2022-12-01 08:26:00       3.39     17850.0  United Kingdom   \n",
       "2       2022-12-01 08:26:00       2.75     17850.0  United Kingdom   \n",
       "3       2022-12-01 08:26:00       3.39     17850.0  United Kingdom   \n",
       "4       2022-12-01 08:26:00       3.39     17850.0  United Kingdom   \n",
       "...                     ...        ...         ...             ...   \n",
       "397879  2023-12-09 12:50:00       0.85     12680.0          France   \n",
       "397880  2023-12-09 12:50:00       2.10     12680.0          France   \n",
       "397881  2023-12-09 12:50:00       4.15     12680.0          France   \n",
       "397882  2023-12-09 12:50:00       4.15     12680.0          France   \n",
       "397883  2023-12-09 12:50:00       4.95     12680.0          France   \n",
       "\n",
       "        TotalPrice InvoiceDateOnly InvoiceDayOfWeek InvoiceMonth  InvoiceHour  \n",
       "0            15.30      2022-12-01         Thursday     December            8  \n",
       "1            20.34      2022-12-01         Thursday     December            8  \n",
       "2            22.00      2022-12-01         Thursday     December            8  \n",
       "3            20.34      2022-12-01         Thursday     December            8  \n",
       "4            20.34      2022-12-01         Thursday     December            8  \n",
       "...            ...             ...              ...          ...          ...  \n",
       "397879       10.20      2023-12-09         Saturday     December           12  \n",
       "397880       12.60      2023-12-09         Saturday     December           12  \n",
       "397881       16.60      2023-12-09         Saturday     December           12  \n",
       "397882       16.60      2023-12-09         Saturday     December           12  \n",
       "397883       14.85      2023-12-09         Saturday     December           12  \n",
       "\n",
       "[397884 rows x 13 columns]"
      ]
     },
     "execution_count": 3,
     "metadata": {},
     "output_type": "execute_result"
    }
   ],
   "source": [
    "df"
   ]
  },
  {
   "cell_type": "markdown",
   "id": "e37578ec",
   "metadata": {},
   "source": [
    "# Drop missing values and canceled orders"
   ]
  },
  {
   "cell_type": "code",
   "execution_count": 4,
   "id": "e4aedf13",
   "metadata": {},
   "outputs": [],
   "source": [
    "df.dropna(subset=['CustomerID', 'Description'], inplace=True)\n",
    "df = df[~df['InvoiceNo'].astype(str).str.startswith('C')]\n",
    "df = df[(df['Quantity'] > 0) & (df['UnitPrice'] > 0)]"
   ]
  },
  {
   "cell_type": "markdown",
   "id": "4d5ea35c",
   "metadata": {},
   "source": [
    "### Check for null values"
   ]
  },
  {
   "cell_type": "code",
   "execution_count": 5,
   "id": "57c0531e",
   "metadata": {},
   "outputs": [
    {
     "data": {
      "text/plain": [
       "InvoiceNo           0\n",
       "StockCode           0\n",
       "Description         0\n",
       "Quantity            0\n",
       "InvoiceDate         0\n",
       "UnitPrice           0\n",
       "CustomerID          0\n",
       "Country             0\n",
       "TotalPrice          0\n",
       "InvoiceDateOnly     0\n",
       "InvoiceDayOfWeek    0\n",
       "InvoiceMonth        0\n",
       "InvoiceHour         0\n",
       "dtype: int64"
      ]
     },
     "execution_count": 5,
     "metadata": {},
     "output_type": "execute_result"
    }
   ],
   "source": [
    "df.isna().sum()"
   ]
  },
  {
   "cell_type": "markdown",
   "id": "82468028",
   "metadata": {},
   "source": [
    "### Strip extra whitespace from descriptions"
   ]
  },
  {
   "cell_type": "code",
   "execution_count": 6,
   "id": "57230e92",
   "metadata": {},
   "outputs": [],
   "source": [
    "df['Description'] = df['Description'].str.strip().str.upper()"
   ]
  },
  {
   "cell_type": "markdown",
   "id": "e03ef112",
   "metadata": {},
   "source": [
    "## Train/Test Split "
   ]
  },
  {
   "cell_type": "code",
   "execution_count": 12,
   "id": "e2058979",
   "metadata": {},
   "outputs": [],
   "source": [
    "df['InvoiceDate'] = pd.to_datetime(df['InvoiceDate'])\n",
    "split_date = df['InvoiceDate'].quantile(0.8)\n",
    "\n",
    "train_df = df[df['InvoiceDate'] <= split_date]\n",
    "test_df = df[df['InvoiceDate'] > split_date]"
   ]
  },
  {
   "cell_type": "markdown",
   "id": "f0bdc222",
   "metadata": {},
   "source": [
    "## Create User–Item Matrix (Frequency or Binary)"
   ]
  },
  {
   "cell_type": "code",
   "execution_count": 13,
   "id": "22022a16",
   "metadata": {},
   "outputs": [],
   "source": [
    "# Create the user-item matrix using Quantity\n",
    "basket = train_df.pivot_table(index='CustomerID', columns='Description', values='Quantity', aggfunc='sum').fillna(0)\n",
    "\n",
    "# filter rarely purchased products\n",
    "product_counts = (basket > 0).sum()\n",
    "basket = basket.loc[:, product_counts[product_counts >= 3].index]"
   ]
  },
  {
   "cell_type": "markdown",
   "id": "e15bfe2b",
   "metadata": {},
   "source": [
    "## Apply TF-IDF Weighting"
   ]
  },
  {
   "cell_type": "code",
   "execution_count": 14,
   "id": "1b467198",
   "metadata": {},
   "outputs": [],
   "source": [
    "# TF = original basket\n",
    "tf = basket.copy()\n",
    "\n",
    "# IDF: log(N / df)\n",
    "n_customers = tf.shape[0]\n",
    "df_counts = (tf > 0).sum(axis=0)\n",
    "idf = np.log1p(n_customers / (1 + df_counts))\n",
    "\n",
    "# TF-IDF weighting\n",
    "tfidf_matrix = tf * idf"
   ]
  },
  {
   "cell_type": "markdown",
   "id": "91d99cfd",
   "metadata": {},
   "source": [
    "## Compute Cosine Similarity"
   ]
  },
  {
   "cell_type": "code",
   "execution_count": 15,
   "id": "e76c37d5",
   "metadata": {},
   "outputs": [],
   "source": [
    "# Use either TF-IDF matrix or raw quantity matrix\n",
    "item_similarity = cosine_similarity(tfidf_matrix.T)  # or basket.T for frequency-based\n",
    "item_similarity_df = pd.DataFrame(item_similarity, index=tf.columns, columns=tf.columns)"
   ]
  },
  {
   "cell_type": "markdown",
   "id": "625de446",
   "metadata": {},
   "source": [
    "## Save model\n"
   ]
  },
  {
   "cell_type": "code",
   "execution_count": 16,
   "id": "1b55b618",
   "metadata": {},
   "outputs": [
    {
     "data": {
      "text/plain": [
       "['../models/item_similarity_model.pkl']"
      ]
     },
     "execution_count": 16,
     "metadata": {},
     "output_type": "execute_result"
    }
   ],
   "source": [
    "joblib.dump(item_similarity_df, '../models/item_similarity_model.pkl')"
   ]
  },
  {
   "cell_type": "markdown",
   "id": "1b7ab3e2",
   "metadata": {},
   "source": [
    "## Recommendation Function"
   ]
  },
  {
   "cell_type": "code",
   "execution_count": 17,
   "id": "148f7b54",
   "metadata": {},
   "outputs": [],
   "source": [
    "def recommend_products(product_name, similarity_df=item_similarity_df, top_n=5):\n",
    "    product_name = product_name.strip().upper()\n",
    "\n",
    "    if product_name not in similarity_df.columns:\n",
    "        return [\"❌ Product not found.\"]\n",
    "    \n",
    "    similar_items = similarity_df[product_name].sort_values(ascending=False)\n",
    "    return similar_items.iloc[1:top_n+1].index.tolist()"
   ]
  },
  {
   "cell_type": "markdown",
   "id": "89bdfc62",
   "metadata": {},
   "source": [
    "##  Offline Evaluation (Hit Rate @ N)"
   ]
  },
  {
   "cell_type": "code",
   "execution_count": 18,
   "id": "54b6bcdd",
   "metadata": {},
   "outputs": [],
   "source": [
    "def hit_rate(similarity_df, train_df, test_df, n=5):\n",
    "    test_users = test_df['CustomerID'].unique()\n",
    "    hits = 0\n",
    "    total = 0\n",
    "\n",
    "    for user in test_users:\n",
    "        test_products = test_df[test_df['CustomerID'] == user]['Description'].unique()\n",
    "        train_products = train_df[train_df['CustomerID'] == user]['Description'].unique()\n",
    "\n",
    "        for train_product in train_products:\n",
    "            if train_product not in similarity_df.columns:\n",
    "                continue\n",
    "            recommended = similarity_df[train_product].sort_values(ascending=False).iloc[1:n+1].index.tolist()\n",
    "            for test_product in test_products:\n",
    "                if test_product in recommended:\n",
    "                    hits += 1\n",
    "                    break\n",
    "            total += 1\n",
    "\n",
    "    hit_rate_value = hits / total if total else 0\n",
    "    print(f\"Hit Rate @ {n}: {hit_rate_value:.4f}\")\n",
    "    return hit_rate_value"
   ]
  },
  {
   "cell_type": "markdown",
   "id": "19af0698",
   "metadata": {},
   "source": [
    "# Evaluate the model"
   ]
  },
  {
   "cell_type": "code",
   "execution_count": 20,
   "id": "634f1f70",
   "metadata": {},
   "outputs": [
    {
     "name": "stdout",
     "output_type": "stream",
     "text": [
      "Hit Rate @ 5: 0.1976\n"
     ]
    },
    {
     "data": {
      "text/plain": [
       "0.19760792432790217"
      ]
     },
     "execution_count": 20,
     "metadata": {},
     "output_type": "execute_result"
    }
   ],
   "source": [
    "hit_rate(item_similarity_df, train_df, test_df, n=5)"
   ]
  },
  {
   "cell_type": "code",
   "execution_count": 19,
   "id": "3b3e14e1",
   "metadata": {},
   "outputs": [
    {
     "name": "stdout",
     "output_type": "stream",
     "text": [
      "['GIN + TONIC DIET METAL SIGN', 'FAIRY CAKE FLANNEL ASSORTED COLOUR', 'DOORMAT FAIRY CAKE', 'RED HANGING HEART T-LIGHT HOLDER', 'WASHROOM METAL SIGN']\n"
     ]
    }
   ],
   "source": [
    "print(recommend_products(\"WHITE HANGING HEART T-LIGHT HOLDER\"))"
   ]
  },
  {
   "cell_type": "markdown",
   "id": "2f9aa76d",
   "metadata": {},
   "source": [
    "# Summary - \n",
    "### In this project, we developed a complete item-based collaborative filtering recommendation system using transactional e-commerce data. After cleaning and preprocessing the dataset, we created a customer-product interaction matrix using product purchase quantities. We applied optional enhancements such as filtering out rarely purchased items and implementing TF-IDF weighting to reduce the influence of overly popular products. Cosine similarity was then used to compute product-to-product similarity, forming the basis for recommendations. A recommendation function was built to return the top-N similar products for any given input item. To evaluate model performance, we implemented a time-based train/test split and calculated Hit Rate @ N, which measures how often actual future purchases appeared in the top-N recommended products. This pipeline provides both a functional recommendation engine and an evaluation framework, suitable for integration into applications like a Streamlit-based e-commerce platform."
   ]
  }
 ],
 "metadata": {
  "kernelspec": {
   "display_name": "Python 3",
   "language": "python",
   "name": "python3"
  },
  "language_info": {
   "codemirror_mode": {
    "name": "ipython",
    "version": 3
   },
   "file_extension": ".py",
   "mimetype": "text/x-python",
   "name": "python",
   "nbconvert_exporter": "python",
   "pygments_lexer": "ipython3",
   "version": "3.12.11"
  }
 },
 "nbformat": 4,
 "nbformat_minor": 5
}
