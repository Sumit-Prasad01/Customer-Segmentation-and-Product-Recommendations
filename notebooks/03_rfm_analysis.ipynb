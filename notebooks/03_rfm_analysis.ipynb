{
 "cells": [
  {
   "cell_type": "code",
   "execution_count": null,
   "id": "35a3d6ed",
   "metadata": {},
   "outputs": [],
   "source": [
    "import pandas as pd\n",
    "import matplotlib.pyplot as plt\n",
    "import datetime as dt\n",
    "\n",
    "# Load the dataset\n",
    "df = pd.read_csv('online_retail.csv')\n",
    "\n",
    "# Data Cleaning and Preparation\n",
    "df.dropna(inplace=True)\n",
    "df.drop_duplicates(inplace=True)\n",
    "df['InvoiceDate'] = pd.to_datetime(df['InvoiceDate'])\n",
    "df = df[df['Quantity'] > 0]\n",
    "df['TotalPrice'] = df['Quantity'] * df['UnitPrice']\n",
    "\n",
    "# RFM Distributions\n",
    "recency_df = df.groupby('CustomerID')['InvoiceDate'].max().reset_index()\n",
    "reference_date = df['InvoiceDate'].max() + dt.timedelta(days=1)\n",
    "recency_df['Recency'] = (reference_date - recency_df['InvoiceDate']).dt.days\n",
    "frequency_df = df.groupby('CustomerID')['InvoiceNo'].nunique().reset_index()\n",
    "frequency_df.rename(columns={'InvoiceNo': 'Frequency'}, inplace=True)\n",
    "monetary_df = df.groupby('CustomerID')['TotalPrice'].sum().reset_index()\n",
    "monetary_df.rename(columns={'TotalPrice': 'Monetary'}, inplace=True)\n",
    "rfm_df = recency_df.merge(frequency_df, on='CustomerID').merge(monetary_df, on='CustomerID')\n",
    "\n",
    "# Plot RFM distributions\n",
    "fig, axes = plt.subplots(1, 3, figsize=(18, 6))\n",
    "axes[0].hist(rfm_df['Recency'], bins=50, color='skyblue', edgecolor='black')\n",
    "axes[0].set_title('Recency Distribution')\n",
    "axes[0].set_xlabel('Days Since Last Purchase')\n",
    "axes[0].set_ylabel('Frequency')\n",
    "axes[0].grid(True, linestyle='--', linewidth=0.5)\n",
    "axes[1].hist(rfm_df['Frequency'], bins=50, color='lightgreen', edgecolor='black')\n",
    "axes[1].set_title('Frequency Distribution')\n",
    "axes[1].set_xlabel('Number of Purchases')\n",
    "axes[1].set_ylabel('Frequency')\n",
    "axes[1].set_yscale('log')\n",
    "axes[1].grid(True, which='both', linestyle='--', linewidth=0.5)\n",
    "axes[2].hist(rfm_df['Monetary'], bins=50, color='salmon', edgecolor='black')\n",
    "axes[2].set_title('Monetary Distribution')\n",
    "axes[2].set_xlabel('Total Spend')\n",
    "axes[2].set_ylabel('Frequency')\n",
    "axes[2].set_yscale('log')\n",
    "axes[2].grid(True, which='both', linestyle='--', linewidth=0.5)\n",
    "plt.tight_layout()\n",
    "plt.savefig('rfm_distributions.png')"
   ]
  }
 ],
 "metadata": {
  "language_info": {
   "name": "python"
  }
 },
 "nbformat": 4,
 "nbformat_minor": 5
}
