{
 "cells": [
  {
   "cell_type": "markdown",
   "id": "6a8ff5fd",
   "metadata": {},
   "source": [
    "# ***Data Preprocessing & Cleaning*** "
   ]
  },
  {
   "cell_type": "markdown",
   "id": "ee94ac30",
   "metadata": {},
   "source": [
    "### Import Libraries"
   ]
  },
  {
   "cell_type": "code",
   "execution_count": 1,
   "id": "b37ecd47",
   "metadata": {},
   "outputs": [],
   "source": [
    "import pandas as pd\n",
    "import numpy as np\n",
    "import seaborn as sns\n",
    "import matplotlib.pyplot as plt\n",
    "import altair as alt"
   ]
  },
  {
   "cell_type": "markdown",
   "id": "3d10ff30",
   "metadata": {},
   "source": [
    "### Load Dataset"
   ]
  },
  {
   "cell_type": "code",
   "execution_count": 2,
   "id": "b8ef5d5a",
   "metadata": {},
   "outputs": [],
   "source": [
    "df = pd.read_csv(\"../data/raw/online_retail.csv\")"
   ]
  },
  {
   "cell_type": "markdown",
   "id": "fa3d98fa",
   "metadata": {},
   "source": [
    "### Dataset first look"
   ]
  },
  {
   "cell_type": "code",
   "execution_count": 3,
   "id": "fcbe21b3",
   "metadata": {},
   "outputs": [
    {
     "data": {
      "text/html": [
       "<div>\n",
       "<style scoped>\n",
       "    .dataframe tbody tr th:only-of-type {\n",
       "        vertical-align: middle;\n",
       "    }\n",
       "\n",
       "    .dataframe tbody tr th {\n",
       "        vertical-align: top;\n",
       "    }\n",
       "\n",
       "    .dataframe thead th {\n",
       "        text-align: right;\n",
       "    }\n",
       "</style>\n",
       "<table border=\"1\" class=\"dataframe\">\n",
       "  <thead>\n",
       "    <tr style=\"text-align: right;\">\n",
       "      <th></th>\n",
       "      <th>InvoiceNo</th>\n",
       "      <th>StockCode</th>\n",
       "      <th>Description</th>\n",
       "      <th>Quantity</th>\n",
       "      <th>InvoiceDate</th>\n",
       "      <th>UnitPrice</th>\n",
       "      <th>CustomerID</th>\n",
       "      <th>Country</th>\n",
       "    </tr>\n",
       "  </thead>\n",
       "  <tbody>\n",
       "    <tr>\n",
       "      <th>0</th>\n",
       "      <td>536365</td>\n",
       "      <td>85123A</td>\n",
       "      <td>WHITE HANGING HEART T-LIGHT HOLDER</td>\n",
       "      <td>6</td>\n",
       "      <td>2022-12-01 08:26:00</td>\n",
       "      <td>2.55</td>\n",
       "      <td>17850.0</td>\n",
       "      <td>United Kingdom</td>\n",
       "    </tr>\n",
       "    <tr>\n",
       "      <th>1</th>\n",
       "      <td>536365</td>\n",
       "      <td>71053</td>\n",
       "      <td>WHITE METAL LANTERN</td>\n",
       "      <td>6</td>\n",
       "      <td>2022-12-01 08:26:00</td>\n",
       "      <td>3.39</td>\n",
       "      <td>17850.0</td>\n",
       "      <td>United Kingdom</td>\n",
       "    </tr>\n",
       "    <tr>\n",
       "      <th>2</th>\n",
       "      <td>536365</td>\n",
       "      <td>84406B</td>\n",
       "      <td>CREAM CUPID HEARTS COAT HANGER</td>\n",
       "      <td>8</td>\n",
       "      <td>2022-12-01 08:26:00</td>\n",
       "      <td>2.75</td>\n",
       "      <td>17850.0</td>\n",
       "      <td>United Kingdom</td>\n",
       "    </tr>\n",
       "    <tr>\n",
       "      <th>3</th>\n",
       "      <td>536365</td>\n",
       "      <td>84029G</td>\n",
       "      <td>KNITTED UNION FLAG HOT WATER BOTTLE</td>\n",
       "      <td>6</td>\n",
       "      <td>2022-12-01 08:26:00</td>\n",
       "      <td>3.39</td>\n",
       "      <td>17850.0</td>\n",
       "      <td>United Kingdom</td>\n",
       "    </tr>\n",
       "    <tr>\n",
       "      <th>4</th>\n",
       "      <td>536365</td>\n",
       "      <td>84029E</td>\n",
       "      <td>RED WOOLLY HOTTIE WHITE HEART.</td>\n",
       "      <td>6</td>\n",
       "      <td>2022-12-01 08:26:00</td>\n",
       "      <td>3.39</td>\n",
       "      <td>17850.0</td>\n",
       "      <td>United Kingdom</td>\n",
       "    </tr>\n",
       "    <tr>\n",
       "      <th>...</th>\n",
       "      <td>...</td>\n",
       "      <td>...</td>\n",
       "      <td>...</td>\n",
       "      <td>...</td>\n",
       "      <td>...</td>\n",
       "      <td>...</td>\n",
       "      <td>...</td>\n",
       "      <td>...</td>\n",
       "    </tr>\n",
       "    <tr>\n",
       "      <th>541904</th>\n",
       "      <td>581587</td>\n",
       "      <td>22613</td>\n",
       "      <td>PACK OF 20 SPACEBOY NAPKINS</td>\n",
       "      <td>12</td>\n",
       "      <td>2023-12-09 12:50:00</td>\n",
       "      <td>0.85</td>\n",
       "      <td>12680.0</td>\n",
       "      <td>France</td>\n",
       "    </tr>\n",
       "    <tr>\n",
       "      <th>541905</th>\n",
       "      <td>581587</td>\n",
       "      <td>22899</td>\n",
       "      <td>CHILDREN'S APRON DOLLY GIRL</td>\n",
       "      <td>6</td>\n",
       "      <td>2023-12-09 12:50:00</td>\n",
       "      <td>2.10</td>\n",
       "      <td>12680.0</td>\n",
       "      <td>France</td>\n",
       "    </tr>\n",
       "    <tr>\n",
       "      <th>541906</th>\n",
       "      <td>581587</td>\n",
       "      <td>23254</td>\n",
       "      <td>CHILDRENS CUTLERY DOLLY GIRL</td>\n",
       "      <td>4</td>\n",
       "      <td>2023-12-09 12:50:00</td>\n",
       "      <td>4.15</td>\n",
       "      <td>12680.0</td>\n",
       "      <td>France</td>\n",
       "    </tr>\n",
       "    <tr>\n",
       "      <th>541907</th>\n",
       "      <td>581587</td>\n",
       "      <td>23255</td>\n",
       "      <td>CHILDRENS CUTLERY CIRCUS PARADE</td>\n",
       "      <td>4</td>\n",
       "      <td>2023-12-09 12:50:00</td>\n",
       "      <td>4.15</td>\n",
       "      <td>12680.0</td>\n",
       "      <td>France</td>\n",
       "    </tr>\n",
       "    <tr>\n",
       "      <th>541908</th>\n",
       "      <td>581587</td>\n",
       "      <td>22138</td>\n",
       "      <td>BAKING SET 9 PIECE RETROSPOT</td>\n",
       "      <td>3</td>\n",
       "      <td>2023-12-09 12:50:00</td>\n",
       "      <td>4.95</td>\n",
       "      <td>12680.0</td>\n",
       "      <td>France</td>\n",
       "    </tr>\n",
       "  </tbody>\n",
       "</table>\n",
       "<p>541909 rows × 8 columns</p>\n",
       "</div>"
      ],
      "text/plain": [
       "       InvoiceNo StockCode                          Description  Quantity  \\\n",
       "0         536365    85123A   WHITE HANGING HEART T-LIGHT HOLDER         6   \n",
       "1         536365     71053                  WHITE METAL LANTERN         6   \n",
       "2         536365    84406B       CREAM CUPID HEARTS COAT HANGER         8   \n",
       "3         536365    84029G  KNITTED UNION FLAG HOT WATER BOTTLE         6   \n",
       "4         536365    84029E       RED WOOLLY HOTTIE WHITE HEART.         6   \n",
       "...          ...       ...                                  ...       ...   \n",
       "541904    581587     22613          PACK OF 20 SPACEBOY NAPKINS        12   \n",
       "541905    581587     22899         CHILDREN'S APRON DOLLY GIRL          6   \n",
       "541906    581587     23254        CHILDRENS CUTLERY DOLLY GIRL          4   \n",
       "541907    581587     23255      CHILDRENS CUTLERY CIRCUS PARADE         4   \n",
       "541908    581587     22138        BAKING SET 9 PIECE RETROSPOT          3   \n",
       "\n",
       "                InvoiceDate  UnitPrice  CustomerID         Country  \n",
       "0       2022-12-01 08:26:00       2.55     17850.0  United Kingdom  \n",
       "1       2022-12-01 08:26:00       3.39     17850.0  United Kingdom  \n",
       "2       2022-12-01 08:26:00       2.75     17850.0  United Kingdom  \n",
       "3       2022-12-01 08:26:00       3.39     17850.0  United Kingdom  \n",
       "4       2022-12-01 08:26:00       3.39     17850.0  United Kingdom  \n",
       "...                     ...        ...         ...             ...  \n",
       "541904  2023-12-09 12:50:00       0.85     12680.0          France  \n",
       "541905  2023-12-09 12:50:00       2.10     12680.0          France  \n",
       "541906  2023-12-09 12:50:00       4.15     12680.0          France  \n",
       "541907  2023-12-09 12:50:00       4.15     12680.0          France  \n",
       "541908  2023-12-09 12:50:00       4.95     12680.0          France  \n",
       "\n",
       "[541909 rows x 8 columns]"
      ]
     },
     "execution_count": 3,
     "metadata": {},
     "output_type": "execute_result"
    }
   ],
   "source": [
    "df"
   ]
  },
  {
   "cell_type": "markdown",
   "id": "7695e4cc",
   "metadata": {},
   "source": [
    "### Dataset Information"
   ]
  },
  {
   "cell_type": "code",
   "execution_count": 4,
   "id": "660988db",
   "metadata": {},
   "outputs": [
    {
     "name": "stdout",
     "output_type": "stream",
     "text": [
      "<class 'pandas.core.frame.DataFrame'>\n",
      "RangeIndex: 541909 entries, 0 to 541908\n",
      "Data columns (total 8 columns):\n",
      " #   Column       Non-Null Count   Dtype  \n",
      "---  ------       --------------   -----  \n",
      " 0   InvoiceNo    541909 non-null  object \n",
      " 1   StockCode    541909 non-null  object \n",
      " 2   Description  540455 non-null  object \n",
      " 3   Quantity     541909 non-null  int64  \n",
      " 4   InvoiceDate  541909 non-null  object \n",
      " 5   UnitPrice    541909 non-null  float64\n",
      " 6   CustomerID   406829 non-null  float64\n",
      " 7   Country      541909 non-null  object \n",
      "dtypes: float64(2), int64(1), object(5)\n",
      "memory usage: 33.1+ MB\n"
     ]
    }
   ],
   "source": [
    "df.info()"
   ]
  },
  {
   "cell_type": "markdown",
   "id": "3dbf6377",
   "metadata": {},
   "source": [
    "### Duplicate value counts"
   ]
  },
  {
   "cell_type": "code",
   "execution_count": 5,
   "id": "dde6cf2f",
   "metadata": {},
   "outputs": [
    {
     "data": {
      "text/plain": [
       "False    536641\n",
       "True       5268\n",
       "Name: count, dtype: int64"
      ]
     },
     "execution_count": 5,
     "metadata": {},
     "output_type": "execute_result"
    }
   ],
   "source": [
    "df.duplicated().value_counts()"
   ]
  },
  {
   "cell_type": "markdown",
   "id": "64ab2e50",
   "metadata": {},
   "source": [
    "### Missing/Null values"
   ]
  },
  {
   "cell_type": "code",
   "execution_count": 6,
   "id": "60ae41d1",
   "metadata": {},
   "outputs": [
    {
     "data": {
      "text/plain": [
       "InvoiceNo           0\n",
       "StockCode           0\n",
       "Description      1454\n",
       "Quantity            0\n",
       "InvoiceDate         0\n",
       "UnitPrice           0\n",
       "CustomerID     135080\n",
       "Country             0\n",
       "dtype: int64"
      ]
     },
     "execution_count": 6,
     "metadata": {},
     "output_type": "execute_result"
    }
   ],
   "source": [
    "df.isna().sum()"
   ]
  },
  {
   "cell_type": "markdown",
   "id": "ac52cc47",
   "metadata": {},
   "source": [
    "### Describe dataset"
   ]
  },
  {
   "cell_type": "code",
   "execution_count": 7,
   "id": "b1d806b8",
   "metadata": {},
   "outputs": [
    {
     "data": {
      "text/html": [
       "<div>\n",
       "<style scoped>\n",
       "    .dataframe tbody tr th:only-of-type {\n",
       "        vertical-align: middle;\n",
       "    }\n",
       "\n",
       "    .dataframe tbody tr th {\n",
       "        vertical-align: top;\n",
       "    }\n",
       "\n",
       "    .dataframe thead th {\n",
       "        text-align: right;\n",
       "    }\n",
       "</style>\n",
       "<table border=\"1\" class=\"dataframe\">\n",
       "  <thead>\n",
       "    <tr style=\"text-align: right;\">\n",
       "      <th></th>\n",
       "      <th>Quantity</th>\n",
       "      <th>UnitPrice</th>\n",
       "      <th>CustomerID</th>\n",
       "    </tr>\n",
       "  </thead>\n",
       "  <tbody>\n",
       "    <tr>\n",
       "      <th>count</th>\n",
       "      <td>541909.000000</td>\n",
       "      <td>541909.000000</td>\n",
       "      <td>406829.000000</td>\n",
       "    </tr>\n",
       "    <tr>\n",
       "      <th>mean</th>\n",
       "      <td>9.552250</td>\n",
       "      <td>4.611114</td>\n",
       "      <td>15287.690570</td>\n",
       "    </tr>\n",
       "    <tr>\n",
       "      <th>std</th>\n",
       "      <td>218.081158</td>\n",
       "      <td>96.759853</td>\n",
       "      <td>1713.600303</td>\n",
       "    </tr>\n",
       "    <tr>\n",
       "      <th>min</th>\n",
       "      <td>-80995.000000</td>\n",
       "      <td>-11062.060000</td>\n",
       "      <td>12346.000000</td>\n",
       "    </tr>\n",
       "    <tr>\n",
       "      <th>25%</th>\n",
       "      <td>1.000000</td>\n",
       "      <td>1.250000</td>\n",
       "      <td>13953.000000</td>\n",
       "    </tr>\n",
       "    <tr>\n",
       "      <th>50%</th>\n",
       "      <td>3.000000</td>\n",
       "      <td>2.080000</td>\n",
       "      <td>15152.000000</td>\n",
       "    </tr>\n",
       "    <tr>\n",
       "      <th>75%</th>\n",
       "      <td>10.000000</td>\n",
       "      <td>4.130000</td>\n",
       "      <td>16791.000000</td>\n",
       "    </tr>\n",
       "    <tr>\n",
       "      <th>max</th>\n",
       "      <td>80995.000000</td>\n",
       "      <td>38970.000000</td>\n",
       "      <td>18287.000000</td>\n",
       "    </tr>\n",
       "  </tbody>\n",
       "</table>\n",
       "</div>"
      ],
      "text/plain": [
       "            Quantity      UnitPrice     CustomerID\n",
       "count  541909.000000  541909.000000  406829.000000\n",
       "mean        9.552250       4.611114   15287.690570\n",
       "std       218.081158      96.759853    1713.600303\n",
       "min    -80995.000000  -11062.060000   12346.000000\n",
       "25%         1.000000       1.250000   13953.000000\n",
       "50%         3.000000       2.080000   15152.000000\n",
       "75%        10.000000       4.130000   16791.000000\n",
       "max     80995.000000   38970.000000   18287.000000"
      ]
     },
     "execution_count": 7,
     "metadata": {},
     "output_type": "execute_result"
    }
   ],
   "source": [
    "df.describe()"
   ]
  },
  {
   "cell_type": "markdown",
   "id": "17f9f253",
   "metadata": {},
   "source": [
    "## ***Data Cleaning For the Customer Segmentation Model***"
   ]
  },
  {
   "cell_type": "markdown",
   "id": "b42c3012",
   "metadata": {},
   "source": [
    "### For the Customer Segmentation Module\n",
    "#### This module relies on RFM (Recency, Frequency, and Monetary) analysis, which requires the InvoiceDate, CustomerID, Quantity, and UnitPrice columns to calculate customer behavior metrics. The following data cleaning steps are essential:\n",
    "\n",
    "\n",
    "- Handling Missing Values: Remove all rows where CustomerID is missing. The dataset inspection showed that there are a significant number of transactions (over 135,000) that are not linked to a specific customer, so these should be removed to ensure accurate customer-level analysis.\n",
    "\n",
    "\n",
    "- Removing Canceled Invoices: Exclude all transactions where the InvoiceNo starts with the letter 'C'. These represent returns or cancellations and should not be included in the purchase history.\n",
    "\n",
    "\n",
    "- Filtering Invalid Quantities and Prices: Remove rows where Quantity or UnitPrice are less than or equal to zero. This ensures that only valid purchase data is used for calculating total spend and frequency.\n",
    "\n",
    "- Data Type Conversion: Convert the InvoiceDate column from its current object type to a datetime format. This is a critical step for accurately calculating the Recency metric, which is the time since a customer's last purchase."
   ]
  },
  {
   "cell_type": "markdown",
   "id": "ac7121fd",
   "metadata": {},
   "source": [
    "### Dropping rows where CustomerID is missing"
   ]
  },
  {
   "cell_type": "code",
   "execution_count": 8,
   "id": "800f9da1",
   "metadata": {},
   "outputs": [],
   "source": [
    "df_cleaned = df.dropna(subset=['CustomerID'])"
   ]
  },
  {
   "cell_type": "code",
   "execution_count": 9,
   "id": "d787c07f",
   "metadata": {},
   "outputs": [],
   "source": [
    "df.dropna(subset=['CustomerID'], inplace=True)  "
   ]
  },
  {
   "cell_type": "code",
   "execution_count": 10,
   "id": "4ac59d33",
   "metadata": {},
   "outputs": [
    {
     "data": {
      "text/plain": [
       "InvoiceNo      0\n",
       "StockCode      0\n",
       "Description    0\n",
       "Quantity       0\n",
       "InvoiceDate    0\n",
       "UnitPrice      0\n",
       "CustomerID     0\n",
       "Country        0\n",
       "dtype: int64"
      ]
     },
     "execution_count": 10,
     "metadata": {},
     "output_type": "execute_result"
    }
   ],
   "source": [
    "df_cleaned.isnull().sum()"
   ]
  },
  {
   "cell_type": "markdown",
   "id": "d3a4625f",
   "metadata": {},
   "source": [
    "### Dropping duplicate values"
   ]
  },
  {
   "cell_type": "code",
   "execution_count": 11,
   "id": "aa82e534",
   "metadata": {},
   "outputs": [],
   "source": [
    "df_cleaned = df.drop_duplicates()"
   ]
  },
  {
   "cell_type": "code",
   "execution_count": 12,
   "id": "351f4446",
   "metadata": {},
   "outputs": [
    {
     "data": {
      "text/plain": [
       "False    401604\n",
       "Name: count, dtype: int64"
      ]
     },
     "execution_count": 12,
     "metadata": {},
     "output_type": "execute_result"
    }
   ],
   "source": [
    "df_cleaned.duplicated().value_counts()"
   ]
  },
  {
   "cell_type": "markdown",
   "id": "e3562b6e",
   "metadata": {},
   "source": [
    "### Exclude canceled invoices by filtering out rows where 'InvoiceNo' starts with 'C' because these represent returns or cancellations and should not be considered as a purchase."
   ]
  },
  {
   "cell_type": "code",
   "execution_count": 13,
   "id": "2de6f864",
   "metadata": {},
   "outputs": [],
   "source": [
    "df_cleaned = df[~df['InvoiceNo'].str.startswith('C', na=False)]"
   ]
  },
  {
   "cell_type": "markdown",
   "id": "88baa209",
   "metadata": {},
   "source": [
    "### Remove rows with negative or zero quantities and prices"
   ]
  },
  {
   "cell_type": "code",
   "execution_count": 14,
   "id": "da5324a4",
   "metadata": {},
   "outputs": [],
   "source": [
    "df_cleaned = df_cleaned[(df_cleaned['Quantity'] > 0) & (df_cleaned['UnitPrice'] > 0)]"
   ]
  },
  {
   "cell_type": "markdown",
   "id": "c252ebac",
   "metadata": {},
   "source": [
    "### Convert 'InvoiceDate' to datetime objects"
   ]
  },
  {
   "cell_type": "code",
   "execution_count": 15,
   "id": "04a67166",
   "metadata": {},
   "outputs": [],
   "source": [
    "df_cleaned['InvoiceDate'] = pd.to_datetime(df_cleaned['InvoiceDate'])"
   ]
  },
  {
   "cell_type": "markdown",
   "id": "349ab168",
   "metadata": {},
   "source": [
    "### Get total price"
   ]
  },
  {
   "cell_type": "code",
   "execution_count": 16,
   "id": "fb431fd6",
   "metadata": {},
   "outputs": [],
   "source": [
    "df_cleaned['TotalPrice'] = df_cleaned['Quantity'] * df_cleaned['UnitPrice']"
   ]
  },
  {
   "cell_type": "code",
   "execution_count": 17,
   "id": "80fd9f4d",
   "metadata": {},
   "outputs": [
    {
     "data": {
      "text/plain": [
       "(397884, 9)"
      ]
     },
     "execution_count": 17,
     "metadata": {},
     "output_type": "execute_result"
    }
   ],
   "source": [
    "df_cleaned.shape"
   ]
  },
  {
   "cell_type": "code",
   "execution_count": 18,
   "id": "96aec01b",
   "metadata": {},
   "outputs": [
    {
     "data": {
      "text/html": [
       "<div>\n",
       "<style scoped>\n",
       "    .dataframe tbody tr th:only-of-type {\n",
       "        vertical-align: middle;\n",
       "    }\n",
       "\n",
       "    .dataframe tbody tr th {\n",
       "        vertical-align: top;\n",
       "    }\n",
       "\n",
       "    .dataframe thead th {\n",
       "        text-align: right;\n",
       "    }\n",
       "</style>\n",
       "<table border=\"1\" class=\"dataframe\">\n",
       "  <thead>\n",
       "    <tr style=\"text-align: right;\">\n",
       "      <th></th>\n",
       "      <th>InvoiceNo</th>\n",
       "      <th>StockCode</th>\n",
       "      <th>Description</th>\n",
       "      <th>Quantity</th>\n",
       "      <th>InvoiceDate</th>\n",
       "      <th>UnitPrice</th>\n",
       "      <th>CustomerID</th>\n",
       "      <th>Country</th>\n",
       "      <th>TotalPrice</th>\n",
       "    </tr>\n",
       "  </thead>\n",
       "  <tbody>\n",
       "    <tr>\n",
       "      <th>0</th>\n",
       "      <td>536365</td>\n",
       "      <td>85123A</td>\n",
       "      <td>WHITE HANGING HEART T-LIGHT HOLDER</td>\n",
       "      <td>6</td>\n",
       "      <td>2022-12-01 08:26:00</td>\n",
       "      <td>2.55</td>\n",
       "      <td>17850.0</td>\n",
       "      <td>United Kingdom</td>\n",
       "      <td>15.30</td>\n",
       "    </tr>\n",
       "    <tr>\n",
       "      <th>1</th>\n",
       "      <td>536365</td>\n",
       "      <td>71053</td>\n",
       "      <td>WHITE METAL LANTERN</td>\n",
       "      <td>6</td>\n",
       "      <td>2022-12-01 08:26:00</td>\n",
       "      <td>3.39</td>\n",
       "      <td>17850.0</td>\n",
       "      <td>United Kingdom</td>\n",
       "      <td>20.34</td>\n",
       "    </tr>\n",
       "    <tr>\n",
       "      <th>2</th>\n",
       "      <td>536365</td>\n",
       "      <td>84406B</td>\n",
       "      <td>CREAM CUPID HEARTS COAT HANGER</td>\n",
       "      <td>8</td>\n",
       "      <td>2022-12-01 08:26:00</td>\n",
       "      <td>2.75</td>\n",
       "      <td>17850.0</td>\n",
       "      <td>United Kingdom</td>\n",
       "      <td>22.00</td>\n",
       "    </tr>\n",
       "    <tr>\n",
       "      <th>3</th>\n",
       "      <td>536365</td>\n",
       "      <td>84029G</td>\n",
       "      <td>KNITTED UNION FLAG HOT WATER BOTTLE</td>\n",
       "      <td>6</td>\n",
       "      <td>2022-12-01 08:26:00</td>\n",
       "      <td>3.39</td>\n",
       "      <td>17850.0</td>\n",
       "      <td>United Kingdom</td>\n",
       "      <td>20.34</td>\n",
       "    </tr>\n",
       "    <tr>\n",
       "      <th>4</th>\n",
       "      <td>536365</td>\n",
       "      <td>84029E</td>\n",
       "      <td>RED WOOLLY HOTTIE WHITE HEART.</td>\n",
       "      <td>6</td>\n",
       "      <td>2022-12-01 08:26:00</td>\n",
       "      <td>3.39</td>\n",
       "      <td>17850.0</td>\n",
       "      <td>United Kingdom</td>\n",
       "      <td>20.34</td>\n",
       "    </tr>\n",
       "  </tbody>\n",
       "</table>\n",
       "</div>"
      ],
      "text/plain": [
       "  InvoiceNo StockCode                          Description  Quantity  \\\n",
       "0    536365    85123A   WHITE HANGING HEART T-LIGHT HOLDER         6   \n",
       "1    536365     71053                  WHITE METAL LANTERN         6   \n",
       "2    536365    84406B       CREAM CUPID HEARTS COAT HANGER         8   \n",
       "3    536365    84029G  KNITTED UNION FLAG HOT WATER BOTTLE         6   \n",
       "4    536365    84029E       RED WOOLLY HOTTIE WHITE HEART.         6   \n",
       "\n",
       "          InvoiceDate  UnitPrice  CustomerID         Country  TotalPrice  \n",
       "0 2022-12-01 08:26:00       2.55     17850.0  United Kingdom       15.30  \n",
       "1 2022-12-01 08:26:00       3.39     17850.0  United Kingdom       20.34  \n",
       "2 2022-12-01 08:26:00       2.75     17850.0  United Kingdom       22.00  \n",
       "3 2022-12-01 08:26:00       3.39     17850.0  United Kingdom       20.34  \n",
       "4 2022-12-01 08:26:00       3.39     17850.0  United Kingdom       20.34  "
      ]
     },
     "execution_count": 18,
     "metadata": {},
     "output_type": "execute_result"
    }
   ],
   "source": [
    "df_cleaned.head()"
   ]
  },
  {
   "cell_type": "markdown",
   "id": "48f3a0db",
   "metadata": {},
   "source": [
    "# ***Exploratory Data Analysis (EDA)***"
   ]
  },
  {
   "cell_type": "markdown",
   "id": "9d342f46",
   "metadata": {},
   "source": [
    "## Transaction Volume by Country"
   ]
  },
  {
   "cell_type": "code",
   "execution_count": 19,
   "id": "0738c1ca",
   "metadata": {},
   "outputs": [
    {
     "data": {
      "text/html": [
       "\n",
       "<style>\n",
       "  #altair-viz-b29a393b7143499f9212aece4446feff.vega-embed {\n",
       "    width: 100%;\n",
       "    display: flex;\n",
       "  }\n",
       "\n",
       "  #altair-viz-b29a393b7143499f9212aece4446feff.vega-embed details,\n",
       "  #altair-viz-b29a393b7143499f9212aece4446feff.vega-embed details summary {\n",
       "    position: relative;\n",
       "  }\n",
       "</style>\n",
       "<div id=\"altair-viz-b29a393b7143499f9212aece4446feff\"></div>\n",
       "<script type=\"text/javascript\">\n",
       "  var VEGA_DEBUG = (typeof VEGA_DEBUG == \"undefined\") ? {} : VEGA_DEBUG;\n",
       "  (function(spec, embedOpt){\n",
       "    let outputDiv = document.currentScript.previousElementSibling;\n",
       "    if (outputDiv.id !== \"altair-viz-b29a393b7143499f9212aece4446feff\") {\n",
       "      outputDiv = document.getElementById(\"altair-viz-b29a393b7143499f9212aece4446feff\");\n",
       "    }\n",
       "\n",
       "    const paths = {\n",
       "      \"vega\": \"https://cdn.jsdelivr.net/npm/vega@5?noext\",\n",
       "      \"vega-lib\": \"https://cdn.jsdelivr.net/npm/vega-lib?noext\",\n",
       "      \"vega-lite\": \"https://cdn.jsdelivr.net/npm/vega-lite@5.20.1?noext\",\n",
       "      \"vega-embed\": \"https://cdn.jsdelivr.net/npm/vega-embed@6?noext\",\n",
       "    };\n",
       "\n",
       "    function maybeLoadScript(lib, version) {\n",
       "      var key = `${lib.replace(\"-\", \"\")}_version`;\n",
       "      return (VEGA_DEBUG[key] == version) ?\n",
       "        Promise.resolve(paths[lib]) :\n",
       "        new Promise(function(resolve, reject) {\n",
       "          var s = document.createElement('script');\n",
       "          document.getElementsByTagName(\"head\")[0].appendChild(s);\n",
       "          s.async = true;\n",
       "          s.onload = () => {\n",
       "            VEGA_DEBUG[key] = version;\n",
       "            return resolve(paths[lib]);\n",
       "          };\n",
       "          s.onerror = () => reject(`Error loading script: ${paths[lib]}`);\n",
       "          s.src = paths[lib];\n",
       "        });\n",
       "    }\n",
       "\n",
       "    function showError(err) {\n",
       "      outputDiv.innerHTML = `<div class=\"error\" style=\"color:red;\">${err}</div>`;\n",
       "      throw err;\n",
       "    }\n",
       "\n",
       "    function displayChart(vegaEmbed) {\n",
       "      vegaEmbed(outputDiv, spec, embedOpt)\n",
       "        .catch(err => showError(`Javascript Error: ${err.message}<br>This usually means there's a typo in your chart specification. See the javascript console for the full traceback.`));\n",
       "    }\n",
       "\n",
       "    if(typeof define === \"function\" && define.amd) {\n",
       "      requirejs.config({paths});\n",
       "      let deps = [\"vega-embed\"];\n",
       "      require(deps, displayChart, err => showError(`Error loading script: ${err.message}`));\n",
       "    } else {\n",
       "      maybeLoadScript(\"vega\", \"5\")\n",
       "        .then(() => maybeLoadScript(\"vega-lite\", \"5.20.1\"))\n",
       "        .then(() => maybeLoadScript(\"vega-embed\", \"6\"))\n",
       "        .catch(showError)\n",
       "        .then(() => displayChart(vegaEmbed));\n",
       "    }\n",
       "  })({\"config\": {\"view\": {\"continuousWidth\": 300, \"continuousHeight\": 300}}, \"data\": {\"name\": \"data-4267473a45e2a8bd67927389d53d6e07\"}, \"mark\": {\"type\": \"bar\"}, \"encoding\": {\"tooltip\": [{\"field\": \"Country\", \"title\": \"Country\", \"type\": \"nominal\"}, {\"field\": \"InvoiceNo\", \"title\": \"Number of Transactions\", \"type\": \"quantitative\"}], \"x\": {\"field\": \"Country\", \"sort\": \"-y\", \"title\": \"Country\", \"type\": \"nominal\"}, \"y\": {\"field\": \"InvoiceNo\", \"title\": \"Number of Transactions\", \"type\": \"quantitative\"}}, \"params\": [{\"name\": \"param_1\", \"select\": {\"type\": \"interval\", \"encodings\": [\"x\", \"y\"]}, \"bind\": \"scales\"}], \"title\": \"Transaction Volume by Country\", \"$schema\": \"https://vega.github.io/schema/vega-lite/v5.20.1.json\", \"datasets\": {\"data-4267473a45e2a8bd67927389d53d6e07\": [{\"Country\": \"United Kingdom\", \"InvoiceNo\": 16646}, {\"Country\": \"Germany\", \"InvoiceNo\": 457}, {\"Country\": \"France\", \"InvoiceNo\": 389}, {\"Country\": \"EIRE\", \"InvoiceNo\": 260}, {\"Country\": \"Belgium\", \"InvoiceNo\": 98}, {\"Country\": \"Netherlands\", \"InvoiceNo\": 94}, {\"Country\": \"Spain\", \"InvoiceNo\": 90}, {\"Country\": \"Portugal\", \"InvoiceNo\": 57}, {\"Country\": \"Australia\", \"InvoiceNo\": 57}, {\"Country\": \"Switzerland\", \"InvoiceNo\": 51}, {\"Country\": \"Finland\", \"InvoiceNo\": 41}, {\"Country\": \"Italy\", \"InvoiceNo\": 38}, {\"Country\": \"Sweden\", \"InvoiceNo\": 36}, {\"Country\": \"Norway\", \"InvoiceNo\": 36}, {\"Country\": \"Channel Islands\", \"InvoiceNo\": 26}, {\"Country\": \"Japan\", \"InvoiceNo\": 19}, {\"Country\": \"Poland\", \"InvoiceNo\": 19}, {\"Country\": \"Denmark\", \"InvoiceNo\": 18}, {\"Country\": \"Austria\", \"InvoiceNo\": 17}, {\"Country\": \"Cyprus\", \"InvoiceNo\": 16}, {\"Country\": \"Unspecified\", \"InvoiceNo\": 8}, {\"Country\": \"Iceland\", \"InvoiceNo\": 7}, {\"Country\": \"Singapore\", \"InvoiceNo\": 7}, {\"Country\": \"Canada\", \"InvoiceNo\": 6}, {\"Country\": \"Greece\", \"InvoiceNo\": 5}, {\"Country\": \"Malta\", \"InvoiceNo\": 5}, {\"Country\": \"Israel\", \"InvoiceNo\": 5}, {\"Country\": \"USA\", \"InvoiceNo\": 5}, {\"Country\": \"Lithuania\", \"InvoiceNo\": 4}, {\"Country\": \"European Community\", \"InvoiceNo\": 4}, {\"Country\": \"United Arab Emirates\", \"InvoiceNo\": 3}, {\"Country\": \"Czech Republic\", \"InvoiceNo\": 2}, {\"Country\": \"Bahrain\", \"InvoiceNo\": 2}, {\"Country\": \"Brazil\", \"InvoiceNo\": 1}, {\"Country\": \"Lebanon\", \"InvoiceNo\": 1}, {\"Country\": \"Saudi Arabia\", \"InvoiceNo\": 1}, {\"Country\": \"RSA\", \"InvoiceNo\": 1}]}}, {\"mode\": \"vega-lite\"});\n",
       "</script>"
      ],
      "text/plain": [
       "alt.Chart(...)"
      ]
     },
     "metadata": {},
     "output_type": "display_data"
    }
   ],
   "source": [
    "country_transactions = df_cleaned.groupby('Country')['InvoiceNo'].nunique().sort_values(ascending=False).reset_index()\n",
    "chart1 = alt.Chart(country_transactions).mark_bar().encode(\n",
    "    x=alt.X('Country', sort='-y', title='Country'),\n",
    "    y=alt.Y('InvoiceNo', title='Number of Transactions'),\n",
    "    tooltip=[\n",
    "        alt.Tooltip('Country', title='Country'),\n",
    "        alt.Tooltip('InvoiceNo', title='Number of Transactions')\n",
    "    ]\n",
    ").properties(\n",
    "    title='Transaction Volume by Country'\n",
    ").interactive()\n",
    "\n",
    "chart1.show()\n",
    "\n",
    "chart1.save('../visuals/After_Cleaning/Customer_Segmentation/EDA/transaction_volume_by_country.json')"
   ]
  },
  {
   "cell_type": "markdown",
   "id": "f06ca198",
   "metadata": {},
   "source": [
    "## Daily Purchase Trends"
   ]
  },
  {
   "cell_type": "code",
   "execution_count": 20,
   "id": "f753851d",
   "metadata": {},
   "outputs": [],
   "source": [
    "df_cleaned['InvoiceDateOnly'] = df_cleaned['InvoiceDate'].dt.date\n",
    "daily_transactions = df_cleaned.groupby('InvoiceDateOnly')['InvoiceNo'].nunique().reset_index()\n",
    "\n",
    "# Convert the date column to a string for Altair to serialize\n",
    "daily_transactions['InvoiceDateOnly'] = daily_transactions['InvoiceDateOnly'].astype(str)"
   ]
  },
  {
   "cell_type": "code",
   "execution_count": 21,
   "id": "60c5b5e4",
   "metadata": {},
   "outputs": [
    {
     "data": {
      "text/html": [
       "\n",
       "<style>\n",
       "  #altair-viz-7c9e555872524f3e8907104b400bc7da.vega-embed {\n",
       "    width: 100%;\n",
       "    display: flex;\n",
       "  }\n",
       "\n",
       "  #altair-viz-7c9e555872524f3e8907104b400bc7da.vega-embed details,\n",
       "  #altair-viz-7c9e555872524f3e8907104b400bc7da.vega-embed details summary {\n",
       "    position: relative;\n",
       "  }\n",
       "</style>\n",
       "<div id=\"altair-viz-7c9e555872524f3e8907104b400bc7da\"></div>\n",
       "<script type=\"text/javascript\">\n",
       "  var VEGA_DEBUG = (typeof VEGA_DEBUG == \"undefined\") ? {} : VEGA_DEBUG;\n",
       "  (function(spec, embedOpt){\n",
       "    let outputDiv = document.currentScript.previousElementSibling;\n",
       "    if (outputDiv.id !== \"altair-viz-7c9e555872524f3e8907104b400bc7da\") {\n",
       "      outputDiv = document.getElementById(\"altair-viz-7c9e555872524f3e8907104b400bc7da\");\n",
       "    }\n",
       "\n",
       "    const paths = {\n",
       "      \"vega\": \"https://cdn.jsdelivr.net/npm/vega@5?noext\",\n",
       "      \"vega-lib\": \"https://cdn.jsdelivr.net/npm/vega-lib?noext\",\n",
       "      \"vega-lite\": \"https://cdn.jsdelivr.net/npm/vega-lite@5.20.1?noext\",\n",
       "      \"vega-embed\": \"https://cdn.jsdelivr.net/npm/vega-embed@6?noext\",\n",
       "    };\n",
       "\n",
       "    function maybeLoadScript(lib, version) {\n",
       "      var key = `${lib.replace(\"-\", \"\")}_version`;\n",
       "      return (VEGA_DEBUG[key] == version) ?\n",
       "        Promise.resolve(paths[lib]) :\n",
       "        new Promise(function(resolve, reject) {\n",
       "          var s = document.createElement('script');\n",
       "          document.getElementsByTagName(\"head\")[0].appendChild(s);\n",
       "          s.async = true;\n",
       "          s.onload = () => {\n",
       "            VEGA_DEBUG[key] = version;\n",
       "            return resolve(paths[lib]);\n",
       "          };\n",
       "          s.onerror = () => reject(`Error loading script: ${paths[lib]}`);\n",
       "          s.src = paths[lib];\n",
       "        });\n",
       "    }\n",
       "\n",
       "    function showError(err) {\n",
       "      outputDiv.innerHTML = `<div class=\"error\" style=\"color:red;\">${err}</div>`;\n",
       "      throw err;\n",
       "    }\n",
       "\n",
       "    function displayChart(vegaEmbed) {\n",
       "      vegaEmbed(outputDiv, spec, embedOpt)\n",
       "        .catch(err => showError(`Javascript Error: ${err.message}<br>This usually means there's a typo in your chart specification. See the javascript console for the full traceback.`));\n",
       "    }\n",
       "\n",
       "    if(typeof define === \"function\" && define.amd) {\n",
       "      requirejs.config({paths});\n",
       "      let deps = [\"vega-embed\"];\n",
       "      require(deps, displayChart, err => showError(`Error loading script: ${err.message}`));\n",
       "    } else {\n",
       "      maybeLoadScript(\"vega\", \"5\")\n",
       "        .then(() => maybeLoadScript(\"vega-lite\", \"5.20.1\"))\n",
       "        .then(() => maybeLoadScript(\"vega-embed\", \"6\"))\n",
       "        .catch(showError)\n",
       "        .then(() => displayChart(vegaEmbed));\n",
       "    }\n",
       "  })({\"config\": {\"view\": {\"continuousWidth\": 300, \"continuousHeight\": 300}}, \"data\": {\"name\": \"data-10beaf85f9eca9ade16f8466d950d3eb\"}, \"mark\": {\"type\": \"line\"}, \"encoding\": {\"tooltip\": [{\"field\": \"InvoiceDateOnly\", \"title\": \"Date\", \"type\": \"nominal\"}, {\"field\": \"InvoiceNo\", \"title\": \"Number of Transactions\", \"type\": \"quantitative\"}], \"x\": {\"field\": \"InvoiceDateOnly\", \"title\": \"Date\", \"type\": \"nominal\"}, \"y\": {\"field\": \"InvoiceNo\", \"title\": \"Number of Transactions\", \"type\": \"quantitative\"}}, \"params\": [{\"name\": \"param_2\", \"select\": {\"type\": \"interval\", \"encodings\": [\"x\", \"y\"]}, \"bind\": \"scales\"}], \"title\": \"Daily Purchase Trends\", \"$schema\": \"https://vega.github.io/schema/vega-lite/v5.20.1.json\", \"datasets\": {\"data-10beaf85f9eca9ade16f8466d950d3eb\": [{\"InvoiceDateOnly\": \"2022-12-01\", \"InvoiceNo\": 121}, {\"InvoiceDateOnly\": \"2022-12-02\", \"InvoiceNo\": 137}, {\"InvoiceDateOnly\": \"2022-12-03\", \"InvoiceNo\": 57}, {\"InvoiceDateOnly\": \"2022-12-05\", \"InvoiceNo\": 87}, {\"InvoiceDateOnly\": \"2022-12-06\", \"InvoiceNo\": 94}, {\"InvoiceDateOnly\": \"2022-12-07\", \"InvoiceNo\": 71}, {\"InvoiceDateOnly\": \"2022-12-08\", \"InvoiceNo\": 111}, {\"InvoiceDateOnly\": \"2022-12-09\", \"InvoiceNo\": 98}, {\"InvoiceDateOnly\": \"2022-12-10\", \"InvoiceNo\": 72}, {\"InvoiceDateOnly\": \"2022-12-12\", \"InvoiceNo\": 43}, {\"InvoiceDateOnly\": \"2022-12-13\", \"InvoiceNo\": 64}, {\"InvoiceDateOnly\": \"2022-12-14\", \"InvoiceNo\": 81}, {\"InvoiceDateOnly\": \"2022-12-15\", \"InvoiceNo\": 70}, {\"InvoiceDateOnly\": \"2022-12-16\", \"InvoiceNo\": 113}, {\"InvoiceDateOnly\": \"2022-12-17\", \"InvoiceNo\": 55}, {\"InvoiceDateOnly\": \"2022-12-19\", \"InvoiceNo\": 18}, {\"InvoiceDateOnly\": \"2022-12-20\", \"InvoiceNo\": 50}, {\"InvoiceDateOnly\": \"2022-12-21\", \"InvoiceNo\": 27}, {\"InvoiceDateOnly\": \"2022-12-22\", \"InvoiceNo\": 14}, {\"InvoiceDateOnly\": \"2022-12-23\", \"InvoiceNo\": 17}, {\"InvoiceDateOnly\": \"2023-01-04\", \"InvoiceNo\": 35}, {\"InvoiceDateOnly\": \"2023-01-05\", \"InvoiceNo\": 48}, {\"InvoiceDateOnly\": \"2023-01-06\", \"InvoiceNo\": 46}, {\"InvoiceDateOnly\": \"2023-01-07\", \"InvoiceNo\": 47}, {\"InvoiceDateOnly\": \"2023-01-09\", \"InvoiceNo\": 48}, {\"InvoiceDateOnly\": \"2023-01-10\", \"InvoiceNo\": 34}, {\"InvoiceDateOnly\": \"2023-01-11\", \"InvoiceNo\": 53}, {\"InvoiceDateOnly\": \"2023-01-12\", \"InvoiceNo\": 42}, {\"InvoiceDateOnly\": \"2023-01-13\", \"InvoiceNo\": 41}, {\"InvoiceDateOnly\": \"2023-01-14\", \"InvoiceNo\": 38}, {\"InvoiceDateOnly\": \"2023-01-16\", \"InvoiceNo\": 25}, {\"InvoiceDateOnly\": \"2023-01-17\", \"InvoiceNo\": 46}, {\"InvoiceDateOnly\": \"2023-01-18\", \"InvoiceNo\": 32}, {\"InvoiceDateOnly\": \"2023-01-19\", \"InvoiceNo\": 33}, {\"InvoiceDateOnly\": \"2023-01-20\", \"InvoiceNo\": 34}, {\"InvoiceDateOnly\": \"2023-01-21\", \"InvoiceNo\": 34}, {\"InvoiceDateOnly\": \"2023-01-23\", \"InvoiceNo\": 27}, {\"InvoiceDateOnly\": \"2023-01-24\", \"InvoiceNo\": 44}, {\"InvoiceDateOnly\": \"2023-01-25\", \"InvoiceNo\": 59}, {\"InvoiceDateOnly\": \"2023-01-26\", \"InvoiceNo\": 53}, {\"InvoiceDateOnly\": \"2023-01-27\", \"InvoiceNo\": 50}, {\"InvoiceDateOnly\": \"2023-01-28\", \"InvoiceNo\": 37}, {\"InvoiceDateOnly\": \"2023-01-30\", \"InvoiceNo\": 24}, {\"InvoiceDateOnly\": \"2023-01-31\", \"InvoiceNo\": 57}, {\"InvoiceDateOnly\": \"2023-02-01\", \"InvoiceNo\": 58}, {\"InvoiceDateOnly\": \"2023-02-02\", \"InvoiceNo\": 56}, {\"InvoiceDateOnly\": \"2023-02-03\", \"InvoiceNo\": 45}, {\"InvoiceDateOnly\": \"2023-02-04\", \"InvoiceNo\": 45}, {\"InvoiceDateOnly\": \"2023-02-06\", \"InvoiceNo\": 11}, {\"InvoiceDateOnly\": \"2023-02-07\", \"InvoiceNo\": 38}, {\"InvoiceDateOnly\": \"2023-02-08\", \"InvoiceNo\": 38}, {\"InvoiceDateOnly\": \"2023-02-09\", \"InvoiceNo\": 23}, {\"InvoiceDateOnly\": \"2023-02-10\", \"InvoiceNo\": 40}, {\"InvoiceDateOnly\": \"2023-02-11\", \"InvoiceNo\": 38}, {\"InvoiceDateOnly\": \"2023-02-13\", \"InvoiceNo\": 20}, {\"InvoiceDateOnly\": \"2023-02-14\", \"InvoiceNo\": 36}, {\"InvoiceDateOnly\": \"2023-02-15\", \"InvoiceNo\": 53}, {\"InvoiceDateOnly\": \"2023-02-16\", \"InvoiceNo\": 62}, {\"InvoiceDateOnly\": \"2023-02-17\", \"InvoiceNo\": 55}, {\"InvoiceDateOnly\": \"2023-02-18\", \"InvoiceNo\": 35}, {\"InvoiceDateOnly\": \"2023-02-20\", \"InvoiceNo\": 26}, {\"InvoiceDateOnly\": \"2023-02-21\", \"InvoiceNo\": 33}, {\"InvoiceDateOnly\": \"2023-02-22\", \"InvoiceNo\": 50}, {\"InvoiceDateOnly\": \"2023-02-23\", \"InvoiceNo\": 53}, {\"InvoiceDateOnly\": \"2023-02-24\", \"InvoiceNo\": 53}, {\"InvoiceDateOnly\": \"2023-02-25\", \"InvoiceNo\": 45}, {\"InvoiceDateOnly\": \"2023-02-27\", \"InvoiceNo\": 33}, {\"InvoiceDateOnly\": \"2023-02-28\", \"InvoiceNo\": 51}, {\"InvoiceDateOnly\": \"2023-03-01\", \"InvoiceNo\": 56}, {\"InvoiceDateOnly\": \"2023-03-02\", \"InvoiceNo\": 42}, {\"InvoiceDateOnly\": \"2023-03-03\", \"InvoiceNo\": 47}, {\"InvoiceDateOnly\": \"2023-03-04\", \"InvoiceNo\": 45}, {\"InvoiceDateOnly\": \"2023-03-06\", \"InvoiceNo\": 26}, {\"InvoiceDateOnly\": \"2023-03-07\", \"InvoiceNo\": 58}, {\"InvoiceDateOnly\": \"2023-03-08\", \"InvoiceNo\": 44}, {\"InvoiceDateOnly\": \"2023-03-09\", \"InvoiceNo\": 51}, {\"InvoiceDateOnly\": \"2023-03-10\", \"InvoiceNo\": 52}, {\"InvoiceDateOnly\": \"2023-03-11\", \"InvoiceNo\": 48}, {\"InvoiceDateOnly\": \"2023-03-13\", \"InvoiceNo\": 16}, {\"InvoiceDateOnly\": \"2023-03-14\", \"InvoiceNo\": 48}, {\"InvoiceDateOnly\": \"2023-03-15\", \"InvoiceNo\": 41}, {\"InvoiceDateOnly\": \"2023-03-16\", \"InvoiceNo\": 50}, {\"InvoiceDateOnly\": \"2023-03-17\", \"InvoiceNo\": 56}, {\"InvoiceDateOnly\": \"2023-03-18\", \"InvoiceNo\": 52}, {\"InvoiceDateOnly\": \"2023-03-20\", \"InvoiceNo\": 57}, {\"InvoiceDateOnly\": \"2023-03-21\", \"InvoiceNo\": 48}, {\"InvoiceDateOnly\": \"2023-03-22\", \"InvoiceNo\": 41}, {\"InvoiceDateOnly\": \"2023-03-23\", \"InvoiceNo\": 59}, {\"InvoiceDateOnly\": \"2023-03-24\", \"InvoiceNo\": 68}, {\"InvoiceDateOnly\": \"2023-03-25\", \"InvoiceNo\": 52}, {\"InvoiceDateOnly\": \"2023-03-27\", \"InvoiceNo\": 31}, {\"InvoiceDateOnly\": \"2023-03-28\", \"InvoiceNo\": 58}, {\"InvoiceDateOnly\": \"2023-03-29\", \"InvoiceNo\": 50}, {\"InvoiceDateOnly\": \"2023-03-30\", \"InvoiceNo\": 66}, {\"InvoiceDateOnly\": \"2023-03-31\", \"InvoiceNo\": 59}, {\"InvoiceDateOnly\": \"2023-04-01\", \"InvoiceNo\": 68}, {\"InvoiceDateOnly\": \"2023-04-03\", \"InvoiceNo\": 19}, {\"InvoiceDateOnly\": \"2023-04-04\", \"InvoiceNo\": 54}, {\"InvoiceDateOnly\": \"2023-04-05\", \"InvoiceNo\": 46}, {\"InvoiceDateOnly\": \"2023-04-06\", \"InvoiceNo\": 37}, {\"InvoiceDateOnly\": \"2023-04-07\", \"InvoiceNo\": 61}, {\"InvoiceDateOnly\": \"2023-04-08\", \"InvoiceNo\": 65}, {\"InvoiceDateOnly\": \"2023-04-10\", \"InvoiceNo\": 32}, {\"InvoiceDateOnly\": \"2023-04-11\", \"InvoiceNo\": 59}, {\"InvoiceDateOnly\": \"2023-04-12\", \"InvoiceNo\": 60}, {\"InvoiceDateOnly\": \"2023-04-13\", \"InvoiceNo\": 60}, {\"InvoiceDateOnly\": \"2023-04-14\", \"InvoiceNo\": 82}, {\"InvoiceDateOnly\": \"2023-04-15\", \"InvoiceNo\": 41}, {\"InvoiceDateOnly\": \"2023-04-17\", \"InvoiceNo\": 42}, {\"InvoiceDateOnly\": \"2023-04-18\", \"InvoiceNo\": 62}, {\"InvoiceDateOnly\": \"2023-04-19\", \"InvoiceNo\": 53}, {\"InvoiceDateOnly\": \"2023-04-20\", \"InvoiceNo\": 62}, {\"InvoiceDateOnly\": \"2023-04-21\", \"InvoiceNo\": 71}, {\"InvoiceDateOnly\": \"2023-04-26\", \"InvoiceNo\": 59}, {\"InvoiceDateOnly\": \"2023-04-27\", \"InvoiceNo\": 61}, {\"InvoiceDateOnly\": \"2023-04-28\", \"InvoiceNo\": 55}, {\"InvoiceDateOnly\": \"2023-05-01\", \"InvoiceNo\": 18}, {\"InvoiceDateOnly\": \"2023-05-03\", \"InvoiceNo\": 59}, {\"InvoiceDateOnly\": \"2023-05-04\", \"InvoiceNo\": 62}, {\"InvoiceDateOnly\": \"2023-05-05\", \"InvoiceNo\": 82}, {\"InvoiceDateOnly\": \"2023-05-06\", \"InvoiceNo\": 77}, {\"InvoiceDateOnly\": \"2023-05-08\", \"InvoiceNo\": 63}, {\"InvoiceDateOnly\": \"2023-05-09\", \"InvoiceNo\": 63}, {\"InvoiceDateOnly\": \"2023-05-10\", \"InvoiceNo\": 70}, {\"InvoiceDateOnly\": \"2023-05-11\", \"InvoiceNo\": 73}, {\"InvoiceDateOnly\": \"2023-05-12\", \"InvoiceNo\": 84}, {\"InvoiceDateOnly\": \"2023-05-13\", \"InvoiceNo\": 67}, {\"InvoiceDateOnly\": \"2023-05-15\", \"InvoiceNo\": 30}, {\"InvoiceDateOnly\": \"2023-05-16\", \"InvoiceNo\": 64}, {\"InvoiceDateOnly\": \"2023-05-17\", \"InvoiceNo\": 72}, {\"InvoiceDateOnly\": \"2023-05-18\", \"InvoiceNo\": 71}, {\"InvoiceDateOnly\": \"2023-05-19\", \"InvoiceNo\": 92}, {\"InvoiceDateOnly\": \"2023-05-20\", \"InvoiceNo\": 69}, {\"InvoiceDateOnly\": \"2023-05-22\", \"InvoiceNo\": 61}, {\"InvoiceDateOnly\": \"2023-05-23\", \"InvoiceNo\": 64}, {\"InvoiceDateOnly\": \"2023-05-24\", \"InvoiceNo\": 62}, {\"InvoiceDateOnly\": \"2023-05-25\", \"InvoiceNo\": 60}, {\"InvoiceDateOnly\": \"2023-05-26\", \"InvoiceNo\": 61}, {\"InvoiceDateOnly\": \"2023-05-27\", \"InvoiceNo\": 56}, {\"InvoiceDateOnly\": \"2023-05-29\", \"InvoiceNo\": 24}, {\"InvoiceDateOnly\": \"2023-05-31\", \"InvoiceNo\": 51}, {\"InvoiceDateOnly\": \"2023-06-01\", \"InvoiceNo\": 37}, {\"InvoiceDateOnly\": \"2023-06-02\", \"InvoiceNo\": 42}, {\"InvoiceDateOnly\": \"2023-06-03\", \"InvoiceNo\": 41}, {\"InvoiceDateOnly\": \"2023-06-05\", \"InvoiceNo\": 67}, {\"InvoiceDateOnly\": \"2023-06-06\", \"InvoiceNo\": 56}, {\"InvoiceDateOnly\": \"2023-06-07\", \"InvoiceNo\": 71}, {\"InvoiceDateOnly\": \"2023-06-08\", \"InvoiceNo\": 82}, {\"InvoiceDateOnly\": \"2023-06-09\", \"InvoiceNo\": 82}, {\"InvoiceDateOnly\": \"2023-06-10\", \"InvoiceNo\": 44}, {\"InvoiceDateOnly\": \"2023-06-12\", \"InvoiceNo\": 38}, {\"InvoiceDateOnly\": \"2023-06-13\", \"InvoiceNo\": 52}, {\"InvoiceDateOnly\": \"2023-06-14\", \"InvoiceNo\": 52}, {\"InvoiceDateOnly\": \"2023-06-15\", \"InvoiceNo\": 50}, {\"InvoiceDateOnly\": \"2023-06-16\", \"InvoiceNo\": 81}, {\"InvoiceDateOnly\": \"2023-06-17\", \"InvoiceNo\": 46}, {\"InvoiceDateOnly\": \"2023-06-19\", \"InvoiceNo\": 60}, {\"InvoiceDateOnly\": \"2023-06-20\", \"InvoiceNo\": 59}, {\"InvoiceDateOnly\": \"2023-06-21\", \"InvoiceNo\": 48}, {\"InvoiceDateOnly\": \"2023-06-22\", \"InvoiceNo\": 57}, {\"InvoiceDateOnly\": \"2023-06-23\", \"InvoiceNo\": 69}, {\"InvoiceDateOnly\": \"2023-06-24\", \"InvoiceNo\": 45}, {\"InvoiceDateOnly\": \"2023-06-26\", \"InvoiceNo\": 26}, {\"InvoiceDateOnly\": \"2023-06-27\", \"InvoiceNo\": 35}, {\"InvoiceDateOnly\": \"2023-06-28\", \"InvoiceNo\": 49}, {\"InvoiceDateOnly\": \"2023-06-29\", \"InvoiceNo\": 39}, {\"InvoiceDateOnly\": \"2023-06-30\", \"InvoiceNo\": 65}, {\"InvoiceDateOnly\": \"2023-07-01\", \"InvoiceNo\": 42}, {\"InvoiceDateOnly\": \"2023-07-03\", \"InvoiceNo\": 25}, {\"InvoiceDateOnly\": \"2023-07-04\", \"InvoiceNo\": 37}, {\"InvoiceDateOnly\": \"2023-07-05\", \"InvoiceNo\": 64}, {\"InvoiceDateOnly\": \"2023-07-06\", \"InvoiceNo\": 66}, {\"InvoiceDateOnly\": \"2023-07-07\", \"InvoiceNo\": 73}, {\"InvoiceDateOnly\": \"2023-07-08\", \"InvoiceNo\": 46}, {\"InvoiceDateOnly\": \"2023-07-10\", \"InvoiceNo\": 24}, {\"InvoiceDateOnly\": \"2023-07-11\", \"InvoiceNo\": 48}, {\"InvoiceDateOnly\": \"2023-07-12\", \"InvoiceNo\": 45}, {\"InvoiceDateOnly\": \"2023-07-13\", \"InvoiceNo\": 56}, {\"InvoiceDateOnly\": \"2023-07-14\", \"InvoiceNo\": 69}, {\"InvoiceDateOnly\": \"2023-07-15\", \"InvoiceNo\": 37}, {\"InvoiceDateOnly\": \"2023-07-17\", \"InvoiceNo\": 50}, {\"InvoiceDateOnly\": \"2023-07-18\", \"InvoiceNo\": 46}, {\"InvoiceDateOnly\": \"2023-07-19\", \"InvoiceNo\": 62}, {\"InvoiceDateOnly\": \"2023-07-20\", \"InvoiceNo\": 53}, {\"InvoiceDateOnly\": \"2023-07-21\", \"InvoiceNo\": 70}, {\"InvoiceDateOnly\": \"2023-07-22\", \"InvoiceNo\": 37}, {\"InvoiceDateOnly\": \"2023-07-24\", \"InvoiceNo\": 57}, {\"InvoiceDateOnly\": \"2023-07-25\", \"InvoiceNo\": 53}, {\"InvoiceDateOnly\": \"2023-07-26\", \"InvoiceNo\": 46}, {\"InvoiceDateOnly\": \"2023-07-27\", \"InvoiceNo\": 44}, {\"InvoiceDateOnly\": \"2023-07-28\", \"InvoiceNo\": 78}, {\"InvoiceDateOnly\": \"2023-07-29\", \"InvoiceNo\": 62}, {\"InvoiceDateOnly\": \"2023-07-31\", \"InvoiceNo\": 41}, {\"InvoiceDateOnly\": \"2023-08-01\", \"InvoiceNo\": 39}, {\"InvoiceDateOnly\": \"2023-08-02\", \"InvoiceNo\": 41}, {\"InvoiceDateOnly\": \"2023-08-03\", \"InvoiceNo\": 62}, {\"InvoiceDateOnly\": \"2023-08-04\", \"InvoiceNo\": 79}, {\"InvoiceDateOnly\": \"2023-08-05\", \"InvoiceNo\": 52}, {\"InvoiceDateOnly\": \"2023-08-07\", \"InvoiceNo\": 29}, {\"InvoiceDateOnly\": \"2023-08-08\", \"InvoiceNo\": 38}, {\"InvoiceDateOnly\": \"2023-08-09\", \"InvoiceNo\": 40}, {\"InvoiceDateOnly\": \"2023-08-10\", \"InvoiceNo\": 43}, {\"InvoiceDateOnly\": \"2023-08-11\", \"InvoiceNo\": 64}, {\"InvoiceDateOnly\": \"2023-08-12\", \"InvoiceNo\": 46}, {\"InvoiceDateOnly\": \"2023-08-14\", \"InvoiceNo\": 25}, {\"InvoiceDateOnly\": \"2023-08-15\", \"InvoiceNo\": 48}, {\"InvoiceDateOnly\": \"2023-08-16\", \"InvoiceNo\": 50}, {\"InvoiceDateOnly\": \"2023-08-17\", \"InvoiceNo\": 51}, {\"InvoiceDateOnly\": \"2023-08-18\", \"InvoiceNo\": 67}, {\"InvoiceDateOnly\": \"2023-08-19\", \"InvoiceNo\": 55}, {\"InvoiceDateOnly\": \"2023-08-21\", \"InvoiceNo\": 38}, {\"InvoiceDateOnly\": \"2023-08-22\", \"InvoiceNo\": 63}, {\"InvoiceDateOnly\": \"2023-08-23\", \"InvoiceNo\": 60}, {\"InvoiceDateOnly\": \"2023-08-24\", \"InvoiceNo\": 72}, {\"InvoiceDateOnly\": \"2023-08-25\", \"InvoiceNo\": 72}, {\"InvoiceDateOnly\": \"2023-08-26\", \"InvoiceNo\": 44}, {\"InvoiceDateOnly\": \"2023-08-28\", \"InvoiceNo\": 37}, {\"InvoiceDateOnly\": \"2023-08-30\", \"InvoiceNo\": 23}, {\"InvoiceDateOnly\": \"2023-08-31\", \"InvoiceNo\": 42}, {\"InvoiceDateOnly\": \"2023-09-01\", \"InvoiceNo\": 76}, {\"InvoiceDateOnly\": \"2023-09-02\", \"InvoiceNo\": 64}, {\"InvoiceDateOnly\": \"2023-09-04\", \"InvoiceNo\": 49}, {\"InvoiceDateOnly\": \"2023-09-05\", \"InvoiceNo\": 67}, {\"InvoiceDateOnly\": \"2023-09-06\", \"InvoiceNo\": 61}, {\"InvoiceDateOnly\": \"2023-09-07\", \"InvoiceNo\": 46}, {\"InvoiceDateOnly\": \"2023-09-08\", \"InvoiceNo\": 72}, {\"InvoiceDateOnly\": \"2023-09-09\", \"InvoiceNo\": 58}, {\"InvoiceDateOnly\": \"2023-09-11\", \"InvoiceNo\": 75}, {\"InvoiceDateOnly\": \"2023-09-12\", \"InvoiceNo\": 67}, {\"InvoiceDateOnly\": \"2023-09-13\", \"InvoiceNo\": 63}, {\"InvoiceDateOnly\": \"2023-09-14\", \"InvoiceNo\": 65}, {\"InvoiceDateOnly\": \"2023-09-15\", \"InvoiceNo\": 79}, {\"InvoiceDateOnly\": \"2023-09-16\", \"InvoiceNo\": 46}, {\"InvoiceDateOnly\": \"2023-09-18\", \"InvoiceNo\": 27}, {\"InvoiceDateOnly\": \"2023-09-19\", \"InvoiceNo\": 69}, {\"InvoiceDateOnly\": \"2023-09-20\", \"InvoiceNo\": 67}, {\"InvoiceDateOnly\": \"2023-09-21\", \"InvoiceNo\": 67}, {\"InvoiceDateOnly\": \"2023-09-22\", \"InvoiceNo\": 111}, {\"InvoiceDateOnly\": \"2023-09-23\", \"InvoiceNo\": 58}, {\"InvoiceDateOnly\": \"2023-09-25\", \"InvoiceNo\": 75}, {\"InvoiceDateOnly\": \"2023-09-26\", \"InvoiceNo\": 65}, {\"InvoiceDateOnly\": \"2023-09-27\", \"InvoiceNo\": 75}, {\"InvoiceDateOnly\": \"2023-09-28\", \"InvoiceNo\": 80}, {\"InvoiceDateOnly\": \"2023-09-29\", \"InvoiceNo\": 103}, {\"InvoiceDateOnly\": \"2023-09-30\", \"InvoiceNo\": 70}, {\"InvoiceDateOnly\": \"2023-10-02\", \"InvoiceNo\": 34}, {\"InvoiceDateOnly\": \"2023-10-03\", \"InvoiceNo\": 65}, {\"InvoiceDateOnly\": \"2023-10-04\", \"InvoiceNo\": 74}, {\"InvoiceDateOnly\": \"2023-10-05\", \"InvoiceNo\": 94}, {\"InvoiceDateOnly\": \"2023-10-06\", \"InvoiceNo\": 116}, {\"InvoiceDateOnly\": \"2023-10-07\", \"InvoiceNo\": 85}, {\"InvoiceDateOnly\": \"2023-10-09\", \"InvoiceNo\": 38}, {\"InvoiceDateOnly\": \"2023-10-10\", \"InvoiceNo\": 90}, {\"InvoiceDateOnly\": \"2023-10-11\", \"InvoiceNo\": 78}, {\"InvoiceDateOnly\": \"2023-10-12\", \"InvoiceNo\": 82}, {\"InvoiceDateOnly\": \"2023-10-13\", \"InvoiceNo\": 74}, {\"InvoiceDateOnly\": \"2023-10-14\", \"InvoiceNo\": 70}, {\"InvoiceDateOnly\": \"2023-10-16\", \"InvoiceNo\": 35}, {\"InvoiceDateOnly\": \"2023-10-17\", \"InvoiceNo\": 85}, {\"InvoiceDateOnly\": \"2023-10-18\", \"InvoiceNo\": 77}, {\"InvoiceDateOnly\": \"2023-10-19\", \"InvoiceNo\": 77}, {\"InvoiceDateOnly\": \"2023-10-20\", \"InvoiceNo\": 86}, {\"InvoiceDateOnly\": \"2023-10-21\", \"InvoiceNo\": 62}, {\"InvoiceDateOnly\": \"2023-10-23\", \"InvoiceNo\": 42}, {\"InvoiceDateOnly\": \"2023-10-24\", \"InvoiceNo\": 73}, {\"InvoiceDateOnly\": \"2023-10-25\", \"InvoiceNo\": 72}, {\"InvoiceDateOnly\": \"2023-10-26\", \"InvoiceNo\": 92}, {\"InvoiceDateOnly\": \"2023-10-27\", \"InvoiceNo\": 104}, {\"InvoiceDateOnly\": \"2023-10-28\", \"InvoiceNo\": 65}, {\"InvoiceDateOnly\": \"2023-10-30\", \"InvoiceNo\": 96}, {\"InvoiceDateOnly\": \"2023-10-31\", \"InvoiceNo\": 63}, {\"InvoiceDateOnly\": \"2023-11-01\", \"InvoiceNo\": 76}, {\"InvoiceDateOnly\": \"2023-11-02\", \"InvoiceNo\": 83}, {\"InvoiceDateOnly\": \"2023-11-03\", \"InvoiceNo\": 100}, {\"InvoiceDateOnly\": \"2023-11-04\", \"InvoiceNo\": 87}, {\"InvoiceDateOnly\": \"2023-11-06\", \"InvoiceNo\": 101}, {\"InvoiceDateOnly\": \"2023-11-07\", \"InvoiceNo\": 90}, {\"InvoiceDateOnly\": \"2023-11-08\", \"InvoiceNo\": 99}, {\"InvoiceDateOnly\": \"2023-11-09\", \"InvoiceNo\": 118}, {\"InvoiceDateOnly\": \"2023-11-10\", \"InvoiceNo\": 125}, {\"InvoiceDateOnly\": \"2023-11-11\", \"InvoiceNo\": 93}, {\"InvoiceDateOnly\": \"2023-11-13\", \"InvoiceNo\": 83}, {\"InvoiceDateOnly\": \"2023-11-14\", \"InvoiceNo\": 104}, {\"InvoiceDateOnly\": \"2023-11-15\", \"InvoiceNo\": 104}, {\"InvoiceDateOnly\": \"2023-11-16\", \"InvoiceNo\": 124}, {\"InvoiceDateOnly\": \"2023-11-17\", \"InvoiceNo\": 136}, {\"InvoiceDateOnly\": \"2023-11-18\", \"InvoiceNo\": 103}, {\"InvoiceDateOnly\": \"2023-11-20\", \"InvoiceNo\": 98}, {\"InvoiceDateOnly\": \"2023-11-21\", \"InvoiceNo\": 96}, {\"InvoiceDateOnly\": \"2023-11-22\", \"InvoiceNo\": 130}, {\"InvoiceDateOnly\": \"2023-11-23\", \"InvoiceNo\": 130}, {\"InvoiceDateOnly\": \"2023-11-24\", \"InvoiceNo\": 109}, {\"InvoiceDateOnly\": \"2023-11-25\", \"InvoiceNo\": 73}, {\"InvoiceDateOnly\": \"2023-11-27\", \"InvoiceNo\": 56}, {\"InvoiceDateOnly\": \"2023-11-28\", \"InvoiceNo\": 114}, {\"InvoiceDateOnly\": \"2023-11-29\", \"InvoiceNo\": 126}, {\"InvoiceDateOnly\": \"2023-11-30\", \"InvoiceNo\": 99}, {\"InvoiceDateOnly\": \"2023-12-01\", \"InvoiceNo\": 118}, {\"InvoiceDateOnly\": \"2023-12-02\", \"InvoiceNo\": 114}, {\"InvoiceDateOnly\": \"2023-12-04\", \"InvoiceNo\": 62}, {\"InvoiceDateOnly\": \"2023-12-05\", \"InvoiceNo\": 116}, {\"InvoiceDateOnly\": \"2023-12-06\", \"InvoiceNo\": 110}, {\"InvoiceDateOnly\": \"2023-12-07\", \"InvoiceNo\": 104}, {\"InvoiceDateOnly\": \"2023-12-08\", \"InvoiceNo\": 113}, {\"InvoiceDateOnly\": \"2023-12-09\", \"InvoiceNo\": 41}]}}, {\"mode\": \"vega-lite\"});\n",
       "</script>"
      ],
      "text/plain": [
       "alt.Chart(...)"
      ]
     },
     "metadata": {},
     "output_type": "display_data"
    }
   ],
   "source": [
    "# Create a line chart for purchase trends over time\n",
    "chart2 = alt.Chart(daily_transactions).mark_line().encode(\n",
    "    x=alt.X('InvoiceDateOnly', title='Date'),\n",
    "    y=alt.Y('InvoiceNo', title='Number of Transactions'),\n",
    "    tooltip=[\n",
    "        alt.Tooltip('InvoiceDateOnly', title='Date'),\n",
    "        alt.Tooltip('InvoiceNo', title='Number of Transactions')\n",
    "    ]\n",
    ").properties(\n",
    "    title='Daily Purchase Trends'\n",
    ").interactive()\n",
    "\n",
    "chart2.show()\n",
    "chart2.save('../visuals/After_Cleaning/Customer_Segmentation/EDA/daily_purchase_trends.json')"
   ]
  },
  {
   "cell_type": "markdown",
   "id": "200c8fdb",
   "metadata": {},
   "source": [
    "##  Monetary Distribution"
   ]
  },
  {
   "cell_type": "markdown",
   "id": "a4e94621",
   "metadata": {},
   "source": [
    "###  Monetary Distribution per Transaction"
   ]
  },
  {
   "cell_type": "code",
   "execution_count": 22,
   "id": "28f98af2",
   "metadata": {},
   "outputs": [
    {
     "data": {
      "image/png": "[encoded data removed]",
      "text/plain": [
       "<Figure size 1000x600 with 1 Axes>"
      ]
     },
     "metadata": {},
     "output_type": "display_data"
    }
   ],
   "source": [
    "transaction_monetary = df_cleaned.groupby('InvoiceNo')['TotalPrice'].sum().reset_index()\n",
    "fig, ax = plt.subplots(figsize=(10, 6))\n",
    "ax.hist(transaction_monetary['TotalPrice'], bins=50, color='skyblue', edgecolor='black')\n",
    "ax.set_title('Monetary Distribution per Transaction')\n",
    "ax.set_xlabel('Total Price')\n",
    "ax.set_ylabel('Frequency')\n",
    "ax.set_yscale('log')\n",
    "ax.grid(True, which='both', linestyle='--', linewidth=0.5)\n",
    "plt.savefig('../visuals/After_Cleaning/Customer_Segmentation/EDA/monetary_distribution_per_transaction.png')"
   ]
  },
  {
   "cell_type": "markdown",
   "id": "9d95f96c",
   "metadata": {},
   "source": [
    "### Monetary Distribution per Customer"
   ]
  },
  {
   "cell_type": "code",
   "execution_count": 23,
   "id": "003486da",
   "metadata": {},
   "outputs": [
    {
     "data": {
      "image/png": "[encoded data removed]",
      "text/plain": [
       "<Figure size 1000x600 with 1 Axes>"
      ]
     },
     "metadata": {},
     "output_type": "display_data"
    }
   ],
   "source": [
    "customer_monetary = df_cleaned.groupby('CustomerID')['TotalPrice'].sum().reset_index()\n",
    "fig, ax = plt.subplots(figsize=(10, 6))\n",
    "ax.hist(customer_monetary['TotalPrice'], bins=50, color='lightgreen', edgecolor='black')\n",
    "ax.set_title('Monetary Distribution per Customer')\n",
    "ax.set_xlabel('Total Monetary Value')\n",
    "ax.set_ylabel('Frequency')\n",
    "ax.set_yscale('log')\n",
    "ax.grid(True, which='both', linestyle='--', linewidth=0.5)\n",
    "plt.savefig('../visuals/After_Cleaning/Customer_Segmentation/EDA/monetary_distribution_per_customer.png')"
   ]
  },
  {
   "cell_type": "markdown",
   "id": "821c1aea",
   "metadata": {},
   "source": [
    "# ***EDA Summary***"
   ]
  },
  {
   "cell_type": "markdown",
   "id": "73d219eb",
   "metadata": {},
   "source": [
    "### Based on the Exploratory Data Analysis (EDA) performed, here is a summary of the findings, excluding the RFM analysis.\n",
    "\n",
    "#### Data Preparation and Cleaning:\n",
    "- The initial dataset was cleaned by removing rows with missing values in key columns such as CustomerID and Description. Duplicate entries were also removed, and transactions with a non-positive Quantity (which could represent returns) were filtered out. A new feature, TotalPrice, was created by multiplying the Quantity and UnitPrice for each transaction, enabling further monetary analysis.\n",
    "\n",
    "#### Transaction Volume by Country:\n",
    "- Analysis of the transaction volume by country revealed a highly concentrated customer base. The United Kingdom accounted for the vast majority of transactions, followed by a small number of other countries with significantly fewer transactions. This suggests that the business primarily operates within the UK market.\n",
    "\n",
    "#### Purchase Trends Over Time:\n",
    "- A visualization of daily purchase trends over the available period showed a fluctuating but generally upward trend in the number of daily transactions. This pattern can be useful for understanding seasonality and identifying periods of high and low activity.\n",
    "\n",
    "#### Monetary Distribution:\n",
    "- The distributions of monetary values were inspected at two levels: per transaction and per customer. Both distributions were found to be right-skewed, or long-tailed, indicating that a large number of transactions and customers involve smaller monetary values, while a small number of transactions and customers are associated with very high spending. This insight is crucial for understanding the overall spending habits of the customer base and identifying high-value customers."
   ]
  },
  {
   "cell_type": "markdown",
   "id": "64f1f3ae",
   "metadata": {},
   "source": [
    "### Saving Cleaned Data"
   ]
  },
  {
   "cell_type": "code",
   "execution_count": 24,
   "id": "81ebbbc1",
   "metadata": {},
   "outputs": [],
   "source": [
    "Customer_Segementation = df_cleaned"
   ]
  },
  {
   "cell_type": "code",
   "execution_count": 25,
   "id": "8c6eb769",
   "metadata": {},
   "outputs": [],
   "source": [
    "Customer_Segementation.to_csv('../data/processed/Customer_Segmentation/Customer_Segementation.csv', index=False)"
   ]
  },
  {
   "cell_type": "markdown",
   "id": "d0d1ed1c",
   "metadata": {},
   "source": [
    "# ***Data Cleaning and Feature Engineering For the Recommendation Model***"
   ]
  },
  {
   "cell_type": "code",
   "execution_count": 26,
   "id": "8098f979",
   "metadata": {},
   "outputs": [
    {
     "data": {
      "text/plain": [
       "InvoiceNo          0\n",
       "StockCode          0\n",
       "Description        0\n",
       "Quantity           0\n",
       "InvoiceDate        0\n",
       "UnitPrice          0\n",
       "CustomerID         0\n",
       "Country            0\n",
       "TotalPrice         0\n",
       "InvoiceDateOnly    0\n",
       "dtype: int64"
      ]
     },
     "execution_count": 26,
     "metadata": {},
     "output_type": "execute_result"
    }
   ],
   "source": [
    "df_cleaned.isnull().sum()"
   ]
  },
  {
   "cell_type": "markdown",
   "id": "03fa39de",
   "metadata": {},
   "source": [
    "### Extract Temporal Features"
   ]
  },
  {
   "cell_type": "code",
   "execution_count": 27,
   "id": "4ab0d772",
   "metadata": {},
   "outputs": [],
   "source": [
    "Recommendation_df = df_cleaned"
   ]
  },
  {
   "cell_type": "code",
   "execution_count": 28,
   "id": "60f60e44",
   "metadata": {},
   "outputs": [],
   "source": [
    "# Extract Temporal Features\n",
    "Recommendation_df['InvoiceDayOfWeek'] = Recommendation_df['InvoiceDate'].dt.day_name()\n",
    "Recommendation_df['InvoiceMonth'] = Recommendation_df['InvoiceDate'].dt.month_name()\n",
    "Recommendation_df['InvoiceHour'] = Recommendation_df['InvoiceDate'].dt.hour"
   ]
  },
  {
   "cell_type": "markdown",
   "id": "cdb793f8",
   "metadata": {},
   "source": [
    "### Calculate RFM Features (Recency, Frequency, Monetary)\n",
    "### Define a reference date as one day after the last transaction date"
   ]
  },
  {
   "cell_type": "code",
   "execution_count": 29,
   "id": "cccd6ea1",
   "metadata": {},
   "outputs": [
    {
     "name": "stdout",
     "output_type": "stream",
     "text": [
      "\n",
      "RFM features calculated. Preview of RFM DataFrame:\n",
      "   CustomerID  Recency  Frequency  Monetary\n",
      "0     12346.0      326          1  77183.60\n",
      "1     12347.0        2          7   4310.00\n",
      "2     12348.0       75          4   1797.24\n",
      "3     12349.0       19          1   1757.55\n",
      "4     12350.0      310          1    334.40\n"
     ]
    }
   ],
   "source": [
    "reference_date = Recommendation_df['InvoiceDate'].max() + pd.Timedelta(days=1)\n",
    "\n",
    "# Calculate RFM\n",
    "rfm_df = Recommendation_df.groupby('CustomerID').agg(\n",
    "    Recency=('InvoiceDate', lambda date: (reference_date - date.max()).days),\n",
    "    Frequency=('InvoiceNo', 'nunique'),\n",
    "    Monetary=('TotalPrice', 'sum')\n",
    ").reset_index()\n",
    "\n",
    "print(\"\\nRFM features calculated. Preview of RFM DataFrame:\")\n",
    "print(rfm_df.head())"
   ]
  },
  {
   "cell_type": "markdown",
   "id": "7f94a2a9",
   "metadata": {},
   "source": [
    "#  ***Univariate Analysis***"
   ]
  },
  {
   "cell_type": "markdown",
   "id": "ff8e58b1",
   "metadata": {},
   "source": [
    "### Distribution of Customer Activity (Frequency)"
   ]
  },
  {
   "cell_type": "code",
   "execution_count": 30,
   "id": "171836f4",
   "metadata": {},
   "outputs": [
    {
     "name": "stdout",
     "output_type": "stream",
     "text": [
      "\n",
      "Top 20 most frequent number of purchases per customer:\n",
      "Frequency\n",
      "1     1493\n",
      "2      835\n",
      "3      508\n",
      "4      388\n",
      "5      242\n",
      "6      172\n",
      "7      143\n",
      "8       98\n",
      "9       68\n",
      "10      54\n",
      "11      52\n",
      "12      45\n",
      "13      30\n",
      "14      20\n",
      "15      28\n",
      "16      11\n",
      "17      18\n",
      "18      14\n",
      "19      12\n",
      "20      12\n",
      "Name: count, dtype: int64\n"
     ]
    }
   ],
   "source": [
    "customer_activity_dist = rfm_df['Frequency'].value_counts().sort_index().head(20)\n",
    "print(\"\\nTop 20 most frequent number of purchases per customer:\")\n",
    "print(customer_activity_dist)"
   ]
  },
  {
   "cell_type": "markdown",
   "id": "1344eb6a",
   "metadata": {},
   "source": [
    "### Distribution of Product Popularity"
   ]
  },
  {
   "cell_type": "code",
   "execution_count": 31,
   "id": "31674066",
   "metadata": {},
   "outputs": [
    {
     "name": "stdout",
     "output_type": "stream",
     "text": [
      "\n",
      "Top 10 most popular products:\n",
      "Description\n",
      "WHITE HANGING HEART T-LIGHT HOLDER    2028\n",
      "REGENCY CAKESTAND 3 TIER              1723\n",
      "JUMBO BAG RED RETROSPOT               1618\n",
      "ASSORTED COLOUR BIRD ORNAMENT         1408\n",
      "PARTY BUNTING                         1396\n",
      "LUNCH BAG RED RETROSPOT               1316\n",
      "SET OF 3 CAKE TINS PANTRY DESIGN      1159\n",
      "LUNCH BAG  BLACK SKULL.               1105\n",
      "POSTAGE                               1099\n",
      "PACK OF 72 RETROSPOT CAKE CASES       1068\n",
      "Name: count, dtype: int64\n"
     ]
    }
   ],
   "source": [
    "product_popularity = Recommendation_df['Description'].value_counts().head(10)\n",
    "print(\"\\nTop 10 most popular products:\")\n",
    "print(product_popularity)"
   ]
  },
  {
   "cell_type": "markdown",
   "id": "fc265e18",
   "metadata": {},
   "source": [
    "# ***Exploratory Data Analysis (EDA)***"
   ]
  },
  {
   "cell_type": "markdown",
   "id": "c12aaa79",
   "metadata": {},
   "source": [
    "## Distribution of Monetary Value (Histograms)"
   ]
  },
  {
   "cell_type": "code",
   "execution_count": 32,
   "id": "e8b04697",
   "metadata": {},
   "outputs": [
    {
     "data": {
      "image/png": "[encoded data removed]",
      "text/plain": [
       "<Figure size 1200x600 with 1 Axes>"
      ]
     },
     "metadata": {},
     "output_type": "display_data"
    }
   ],
   "source": [
    "plt.figure(figsize=(12, 6))\n",
    "plt.hist(Recommendation_df['TotalPrice'], bins=50, color='skyblue', edgecolor='black')\n",
    "plt.title('Distribution of Total Price per Transaction')\n",
    "plt.xlabel('Total Price ($)')\n",
    "plt.ylabel('Frequency')\n",
    "plt.yscale('log')\n",
    "plt.grid(True, linestyle='--', alpha=0.6)\n",
    "plt.savefig('../visuals/After_Cleaning/Recommendation_Model/EDA/total_price_distribution.png')\n",
    "plt.show()\n",
    "plt.close()"
   ]
  },
  {
   "cell_type": "markdown",
   "id": "dab7cf86",
   "metadata": {},
   "source": [
    "### Distribution of Total Monetary Value per Customer"
   ]
  },
  {
   "cell_type": "code",
   "execution_count": 33,
   "id": "78e812d6",
   "metadata": {},
   "outputs": [
    {
     "data": {
      "image/png": "[encoded data removed]",
      "text/plain": [
       "<Figure size 1200x600 with 1 Axes>"
      ]
     },
     "metadata": {},
     "output_type": "display_data"
    }
   ],
   "source": [
    "plt.figure(figsize=(12, 6))\n",
    "plt.hist(rfm_df['Monetary'], bins=50, color='lightgreen', edgecolor='black')\n",
    "plt.title('Distribution of Total Monetary Value per Customer')\n",
    "plt.xlabel('Total Monetary Value ($)')\n",
    "plt.ylabel('Frequency')\n",
    "plt.yscale('log')\n",
    "plt.grid(True, linestyle='--', alpha=0.6)\n",
    "plt.savefig('../visuals/After_Cleaning/Recommendation_Model/EDA/customer_monetary_distribution.png')\n",
    "plt.show()\n",
    "plt.close()"
   ]
  },
  {
   "cell_type": "markdown",
   "id": "98400156",
   "metadata": {},
   "source": [
    "### Geographical Analysis"
   ]
  },
  {
   "cell_type": "code",
   "execution_count": 34,
   "id": "35b932a6",
   "metadata": {},
   "outputs": [
    {
     "name": "stdout",
     "output_type": "stream",
     "text": [
      "\n",
      "Top 10 countries by number of transactions:\n",
      "Country\n",
      "United Kingdom    16646\n",
      "Germany             457\n",
      "France              389\n",
      "EIRE                260\n",
      "Belgium              98\n",
      "Netherlands          94\n",
      "Spain                90\n",
      "Portugal             57\n",
      "Australia            57\n",
      "Switzerland          51\n",
      "Name: InvoiceNo, dtype: int64\n"
     ]
    }
   ],
   "source": [
    "country_transactions = Recommendation_df.groupby('Country')['InvoiceNo'].nunique().sort_values(ascending=False)\n",
    "print(\"\\nTop 10 countries by number of transactions:\")\n",
    "print(country_transactions.head(10))"
   ]
  },
  {
   "cell_type": "markdown",
   "id": "06a8ac7c",
   "metadata": {},
   "source": [
    "# ***Bivariate and Multivariate Analysis***"
   ]
  },
  {
   "cell_type": "markdown",
   "id": "0ae97b9d",
   "metadata": {},
   "source": [
    "### Time-Series Analysis: Daily Transaction Volume"
   ]
  },
  {
   "cell_type": "code",
   "execution_count": 35,
   "id": "653f994f",
   "metadata": {},
   "outputs": [],
   "source": [
    "daily_transactions = Recommendation_df.groupby(Recommendation_df['InvoiceDate'].dt.date)['InvoiceNo'].nunique().reset_index()\n",
    "daily_transactions.columns = ['Date', 'Transactions']"
   ]
  },
  {
   "cell_type": "markdown",
   "id": "bb8b7f75",
   "metadata": {},
   "source": [
    "### Convert date to string for Altair compatibility"
   ]
  },
  {
   "cell_type": "code",
   "execution_count": 36,
   "id": "895e26de",
   "metadata": {},
   "outputs": [],
   "source": [
    "daily_transactions['Date'] = daily_transactions['Date'].astype(str)"
   ]
  },
  {
   "cell_type": "markdown",
   "id": "91ad2b4b",
   "metadata": {},
   "source": [
    "### Create an interactive line chart with Altair"
   ]
  },
  {
   "cell_type": "code",
   "execution_count": 37,
   "id": "af653bba",
   "metadata": {},
   "outputs": [
    {
     "data": {
      "text/html": [
       "\n",
       "<style>\n",
       "  #altair-viz-b0651183f82a42b3818d2155f77e71d5.vega-embed {\n",
       "    width: 100%;\n",
       "    display: flex;\n",
       "  }\n",
       "\n",
       "  #altair-viz-b0651183f82a42b3818d2155f77e71d5.vega-embed details,\n",
       "  #altair-viz-b0651183f82a42b3818d2155f77e71d5.vega-embed details summary {\n",
       "    position: relative;\n",
       "  }\n",
       "</style>\n",
       "<div id=\"altair-viz-b0651183f82a42b3818d2155f77e71d5\"></div>\n",
       "<script type=\"text/javascript\">\n",
       "  var VEGA_DEBUG = (typeof VEGA_DEBUG == \"undefined\") ? {} : VEGA_DEBUG;\n",
       "  (function(spec, embedOpt){\n",
       "    let outputDiv = document.currentScript.previousElementSibling;\n",
       "    if (outputDiv.id !== \"altair-viz-b0651183f82a42b3818d2155f77e71d5\") {\n",
       "      outputDiv = document.getElementById(\"altair-viz-b0651183f82a42b3818d2155f77e71d5\");\n",
       "    }\n",
       "\n",
       "    const paths = {\n",
       "      \"vega\": \"https://cdn.jsdelivr.net/npm/vega@5?noext\",\n",
       "      \"vega-lib\": \"https://cdn.jsdelivr.net/npm/vega-lib?noext\",\n",
       "      \"vega-lite\": \"https://cdn.jsdelivr.net/npm/vega-lite@5.20.1?noext\",\n",
       "      \"vega-embed\": \"https://cdn.jsdelivr.net/npm/vega-embed@6?noext\",\n",
       "    };\n",
       "\n",
       "    function maybeLoadScript(lib, version) {\n",
       "      var key = `${lib.replace(\"-\", \"\")}_version`;\n",
       "      return (VEGA_DEBUG[key] == version) ?\n",
       "        Promise.resolve(paths[lib]) :\n",
       "        new Promise(function(resolve, reject) {\n",
       "          var s = document.createElement('script');\n",
       "          document.getElementsByTagName(\"head\")[0].appendChild(s);\n",
       "          s.async = true;\n",
       "          s.onload = () => {\n",
       "            VEGA_DEBUG[key] = version;\n",
       "            return resolve(paths[lib]);\n",
       "          };\n",
       "          s.onerror = () => reject(`Error loading script: ${paths[lib]}`);\n",
       "          s.src = paths[lib];\n",
       "        });\n",
       "    }\n",
       "\n",
       "    function showError(err) {\n",
       "      outputDiv.innerHTML = `<div class=\"error\" style=\"color:red;\">${err}</div>`;\n",
       "      throw err;\n",
       "    }\n",
       "\n",
       "    function displayChart(vegaEmbed) {\n",
       "      vegaEmbed(outputDiv, spec, embedOpt)\n",
       "        .catch(err => showError(`Javascript Error: ${err.message}<br>This usually means there's a typo in your chart specification. See the javascript console for the full traceback.`));\n",
       "    }\n",
       "\n",
       "    if(typeof define === \"function\" && define.amd) {\n",
       "      requirejs.config({paths});\n",
       "      let deps = [\"vega-embed\"];\n",
       "      require(deps, displayChart, err => showError(`Error loading script: ${err.message}`));\n",
       "    } else {\n",
       "      maybeLoadScript(\"vega\", \"5\")\n",
       "        .then(() => maybeLoadScript(\"vega-lite\", \"5.20.1\"))\n",
       "        .then(() => maybeLoadScript(\"vega-embed\", \"6\"))\n",
       "        .catch(showError)\n",
       "        .then(() => displayChart(vegaEmbed));\n",
       "    }\n",
       "  })({\"config\": {\"view\": {\"continuousWidth\": 300, \"continuousHeight\": 300}}, \"data\": {\"name\": \"data-413f7f100e2d40e191f6c37cd0c91128\"}, \"mark\": {\"type\": \"line\"}, \"encoding\": {\"tooltip\": [{\"field\": \"Date\", \"title\": \"Date\", \"type\": \"nominal\"}, {\"field\": \"Transactions\", \"title\": \"Number of Transactions\", \"type\": \"quantitative\"}], \"x\": {\"field\": \"Date\", \"title\": \"Date\", \"type\": \"temporal\"}, \"y\": {\"field\": \"Transactions\", \"title\": \"Number of Transactions\", \"type\": \"quantitative\"}}, \"params\": [{\"name\": \"param_3\", \"select\": {\"type\": \"interval\", \"encodings\": [\"x\", \"y\"]}, \"bind\": \"scales\"}], \"title\": \"Daily Transaction Volume Over Time\", \"$schema\": \"https://vega.github.io/schema/vega-lite/v5.20.1.json\", \"datasets\": {\"data-413f7f100e2d40e191f6c37cd0c91128\": [{\"Date\": \"2022-12-01\", \"Transactions\": 121}, {\"Date\": \"2022-12-02\", \"Transactions\": 137}, {\"Date\": \"2022-12-03\", \"Transactions\": 57}, {\"Date\": \"2022-12-05\", \"Transactions\": 87}, {\"Date\": \"2022-12-06\", \"Transactions\": 94}, {\"Date\": \"2022-12-07\", \"Transactions\": 71}, {\"Date\": \"2022-12-08\", \"Transactions\": 111}, {\"Date\": \"2022-12-09\", \"Transactions\": 98}, {\"Date\": \"2022-12-10\", \"Transactions\": 72}, {\"Date\": \"2022-12-12\", \"Transactions\": 43}, {\"Date\": \"2022-12-13\", \"Transactions\": 64}, {\"Date\": \"2022-12-14\", \"Transactions\": 81}, {\"Date\": \"2022-12-15\", \"Transactions\": 70}, {\"Date\": \"2022-12-16\", \"Transactions\": 113}, {\"Date\": \"2022-12-17\", \"Transactions\": 55}, {\"Date\": \"2022-12-19\", \"Transactions\": 18}, {\"Date\": \"2022-12-20\", \"Transactions\": 50}, {\"Date\": \"2022-12-21\", \"Transactions\": 27}, {\"Date\": \"2022-12-22\", \"Transactions\": 14}, {\"Date\": \"2022-12-23\", \"Transactions\": 17}, {\"Date\": \"2023-01-04\", \"Transactions\": 35}, {\"Date\": \"2023-01-05\", \"Transactions\": 48}, {\"Date\": \"2023-01-06\", \"Transactions\": 46}, {\"Date\": \"2023-01-07\", \"Transactions\": 47}, {\"Date\": \"2023-01-09\", \"Transactions\": 48}, {\"Date\": \"2023-01-10\", \"Transactions\": 34}, {\"Date\": \"2023-01-11\", \"Transactions\": 53}, {\"Date\": \"2023-01-12\", \"Transactions\": 42}, {\"Date\": \"2023-01-13\", \"Transactions\": 41}, {\"Date\": \"2023-01-14\", \"Transactions\": 38}, {\"Date\": \"2023-01-16\", \"Transactions\": 25}, {\"Date\": \"2023-01-17\", \"Transactions\": 46}, {\"Date\": \"2023-01-18\", \"Transactions\": 32}, {\"Date\": \"2023-01-19\", \"Transactions\": 33}, {\"Date\": \"2023-01-20\", \"Transactions\": 34}, {\"Date\": \"2023-01-21\", \"Transactions\": 34}, {\"Date\": \"2023-01-23\", \"Transactions\": 27}, {\"Date\": \"2023-01-24\", \"Transactions\": 44}, {\"Date\": \"2023-01-25\", \"Transactions\": 59}, {\"Date\": \"2023-01-26\", \"Transactions\": 53}, {\"Date\": \"2023-01-27\", \"Transactions\": 50}, {\"Date\": \"2023-01-28\", \"Transactions\": 37}, {\"Date\": \"2023-01-30\", \"Transactions\": 24}, {\"Date\": \"2023-01-31\", \"Transactions\": 57}, {\"Date\": \"2023-02-01\", \"Transactions\": 58}, {\"Date\": \"2023-02-02\", \"Transactions\": 56}, {\"Date\": \"2023-02-03\", \"Transactions\": 45}, {\"Date\": \"2023-02-04\", \"Transactions\": 45}, {\"Date\": \"2023-02-06\", \"Transactions\": 11}, {\"Date\": \"2023-02-07\", \"Transactions\": 38}, {\"Date\": \"2023-02-08\", \"Transactions\": 38}, {\"Date\": \"2023-02-09\", \"Transactions\": 23}, {\"Date\": \"2023-02-10\", \"Transactions\": 40}, {\"Date\": \"2023-02-11\", \"Transactions\": 38}, {\"Date\": \"2023-02-13\", \"Transactions\": 20}, {\"Date\": \"2023-02-14\", \"Transactions\": 36}, {\"Date\": \"2023-02-15\", \"Transactions\": 53}, {\"Date\": \"2023-02-16\", \"Transactions\": 62}, {\"Date\": \"2023-02-17\", \"Transactions\": 55}, {\"Date\": \"2023-02-18\", \"Transactions\": 35}, {\"Date\": \"2023-02-20\", \"Transactions\": 26}, {\"Date\": \"2023-02-21\", \"Transactions\": 33}, {\"Date\": \"2023-02-22\", \"Transactions\": 50}, {\"Date\": \"2023-02-23\", \"Transactions\": 53}, {\"Date\": \"2023-02-24\", \"Transactions\": 53}, {\"Date\": \"2023-02-25\", \"Transactions\": 45}, {\"Date\": \"2023-02-27\", \"Transactions\": 33}, {\"Date\": \"2023-02-28\", \"Transactions\": 51}, {\"Date\": \"2023-03-01\", \"Transactions\": 56}, {\"Date\": \"2023-03-02\", \"Transactions\": 42}, {\"Date\": \"2023-03-03\", \"Transactions\": 47}, {\"Date\": \"2023-03-04\", \"Transactions\": 45}, {\"Date\": \"2023-03-06\", \"Transactions\": 26}, {\"Date\": \"2023-03-07\", \"Transactions\": 58}, {\"Date\": \"2023-03-08\", \"Transactions\": 44}, {\"Date\": \"2023-03-09\", \"Transactions\": 51}, {\"Date\": \"2023-03-10\", \"Transactions\": 52}, {\"Date\": \"2023-03-11\", \"Transactions\": 48}, {\"Date\": \"2023-03-13\", \"Transactions\": 16}, {\"Date\": \"2023-03-14\", \"Transactions\": 48}, {\"Date\": \"2023-03-15\", \"Transactions\": 41}, {\"Date\": \"2023-03-16\", \"Transactions\": 50}, {\"Date\": \"2023-03-17\", \"Transactions\": 56}, {\"Date\": \"2023-03-18\", \"Transactions\": 52}, {\"Date\": \"2023-03-20\", \"Transactions\": 57}, {\"Date\": \"2023-03-21\", \"Transactions\": 48}, {\"Date\": \"2023-03-22\", \"Transactions\": 41}, {\"Date\": \"2023-03-23\", \"Transactions\": 59}, {\"Date\": \"2023-03-24\", \"Transactions\": 68}, {\"Date\": \"2023-03-25\", \"Transactions\": 52}, {\"Date\": \"2023-03-27\", \"Transactions\": 31}, {\"Date\": \"2023-03-28\", \"Transactions\": 58}, {\"Date\": \"2023-03-29\", \"Transactions\": 50}, {\"Date\": \"2023-03-30\", \"Transactions\": 66}, {\"Date\": \"2023-03-31\", \"Transactions\": 59}, {\"Date\": \"2023-04-01\", \"Transactions\": 68}, {\"Date\": \"2023-04-03\", \"Transactions\": 19}, {\"Date\": \"2023-04-04\", \"Transactions\": 54}, {\"Date\": \"2023-04-05\", \"Transactions\": 46}, {\"Date\": \"2023-04-06\", \"Transactions\": 37}, {\"Date\": \"2023-04-07\", \"Transactions\": 61}, {\"Date\": \"2023-04-08\", \"Transactions\": 65}, {\"Date\": \"2023-04-10\", \"Transactions\": 32}, {\"Date\": \"2023-04-11\", \"Transactions\": 59}, {\"Date\": \"2023-04-12\", \"Transactions\": 60}, {\"Date\": \"2023-04-13\", \"Transactions\": 60}, {\"Date\": \"2023-04-14\", \"Transactions\": 82}, {\"Date\": \"2023-04-15\", \"Transactions\": 41}, {\"Date\": \"2023-04-17\", \"Transactions\": 42}, {\"Date\": \"2023-04-18\", \"Transactions\": 62}, {\"Date\": \"2023-04-19\", \"Transactions\": 53}, {\"Date\": \"2023-04-20\", \"Transactions\": 62}, {\"Date\": \"2023-04-21\", \"Transactions\": 71}, {\"Date\": \"2023-04-26\", \"Transactions\": 59}, {\"Date\": \"2023-04-27\", \"Transactions\": 61}, {\"Date\": \"2023-04-28\", \"Transactions\": 55}, {\"Date\": \"2023-05-01\", \"Transactions\": 18}, {\"Date\": \"2023-05-03\", \"Transactions\": 59}, {\"Date\": \"2023-05-04\", \"Transactions\": 62}, {\"Date\": \"2023-05-05\", \"Transactions\": 82}, {\"Date\": \"2023-05-06\", \"Transactions\": 77}, {\"Date\": \"2023-05-08\", \"Transactions\": 63}, {\"Date\": \"2023-05-09\", \"Transactions\": 63}, {\"Date\": \"2023-05-10\", \"Transactions\": 70}, {\"Date\": \"2023-05-11\", \"Transactions\": 73}, {\"Date\": \"2023-05-12\", \"Transactions\": 84}, {\"Date\": \"2023-05-13\", \"Transactions\": 67}, {\"Date\": \"2023-05-15\", \"Transactions\": 30}, {\"Date\": \"2023-05-16\", \"Transactions\": 64}, {\"Date\": \"2023-05-17\", \"Transactions\": 72}, {\"Date\": \"2023-05-18\", \"Transactions\": 71}, {\"Date\": \"2023-05-19\", \"Transactions\": 92}, {\"Date\": \"2023-05-20\", \"Transactions\": 69}, {\"Date\": \"2023-05-22\", \"Transactions\": 61}, {\"Date\": \"2023-05-23\", \"Transactions\": 64}, {\"Date\": \"2023-05-24\", \"Transactions\": 62}, {\"Date\": \"2023-05-25\", \"Transactions\": 60}, {\"Date\": \"2023-05-26\", \"Transactions\": 61}, {\"Date\": \"2023-05-27\", \"Transactions\": 56}, {\"Date\": \"2023-05-29\", \"Transactions\": 24}, {\"Date\": \"2023-05-31\", \"Transactions\": 51}, {\"Date\": \"2023-06-01\", \"Transactions\": 37}, {\"Date\": \"2023-06-02\", \"Transactions\": 42}, {\"Date\": \"2023-06-03\", \"Transactions\": 41}, {\"Date\": \"2023-06-05\", \"Transactions\": 67}, {\"Date\": \"2023-06-06\", \"Transactions\": 56}, {\"Date\": \"2023-06-07\", \"Transactions\": 71}, {\"Date\": \"2023-06-08\", \"Transactions\": 82}, {\"Date\": \"2023-06-09\", \"Transactions\": 82}, {\"Date\": \"2023-06-10\", \"Transactions\": 44}, {\"Date\": \"2023-06-12\", \"Transactions\": 38}, {\"Date\": \"2023-06-13\", \"Transactions\": 52}, {\"Date\": \"2023-06-14\", \"Transactions\": 52}, {\"Date\": \"2023-06-15\", \"Transactions\": 50}, {\"Date\": \"2023-06-16\", \"Transactions\": 81}, {\"Date\": \"2023-06-17\", \"Transactions\": 46}, {\"Date\": \"2023-06-19\", \"Transactions\": 60}, {\"Date\": \"2023-06-20\", \"Transactions\": 59}, {\"Date\": \"2023-06-21\", \"Transactions\": 48}, {\"Date\": \"2023-06-22\", \"Transactions\": 57}, {\"Date\": \"2023-06-23\", \"Transactions\": 69}, {\"Date\": \"2023-06-24\", \"Transactions\": 45}, {\"Date\": \"2023-06-26\", \"Transactions\": 26}, {\"Date\": \"2023-06-27\", \"Transactions\": 35}, {\"Date\": \"2023-06-28\", \"Transactions\": 49}, {\"Date\": \"2023-06-29\", \"Transactions\": 39}, {\"Date\": \"2023-06-30\", \"Transactions\": 65}, {\"Date\": \"2023-07-01\", \"Transactions\": 42}, {\"Date\": \"2023-07-03\", \"Transactions\": 25}, {\"Date\": \"2023-07-04\", \"Transactions\": 37}, {\"Date\": \"2023-07-05\", \"Transactions\": 64}, {\"Date\": \"2023-07-06\", \"Transactions\": 66}, {\"Date\": \"2023-07-07\", \"Transactions\": 73}, {\"Date\": \"2023-07-08\", \"Transactions\": 46}, {\"Date\": \"2023-07-10\", \"Transactions\": 24}, {\"Date\": \"2023-07-11\", \"Transactions\": 48}, {\"Date\": \"2023-07-12\", \"Transactions\": 45}, {\"Date\": \"2023-07-13\", \"Transactions\": 56}, {\"Date\": \"2023-07-14\", \"Transactions\": 69}, {\"Date\": \"2023-07-15\", \"Transactions\": 37}, {\"Date\": \"2023-07-17\", \"Transactions\": 50}, {\"Date\": \"2023-07-18\", \"Transactions\": 46}, {\"Date\": \"2023-07-19\", \"Transactions\": 62}, {\"Date\": \"2023-07-20\", \"Transactions\": 53}, {\"Date\": \"2023-07-21\", \"Transactions\": 70}, {\"Date\": \"2023-07-22\", \"Transactions\": 37}, {\"Date\": \"2023-07-24\", \"Transactions\": 57}, {\"Date\": \"2023-07-25\", \"Transactions\": 53}, {\"Date\": \"2023-07-26\", \"Transactions\": 46}, {\"Date\": \"2023-07-27\", \"Transactions\": 44}, {\"Date\": \"2023-07-28\", \"Transactions\": 78}, {\"Date\": \"2023-07-29\", \"Transactions\": 62}, {\"Date\": \"2023-07-31\", \"Transactions\": 41}, {\"Date\": \"2023-08-01\", \"Transactions\": 39}, {\"Date\": \"2023-08-02\", \"Transactions\": 41}, {\"Date\": \"2023-08-03\", \"Transactions\": 62}, {\"Date\": \"2023-08-04\", \"Transactions\": 79}, {\"Date\": \"2023-08-05\", \"Transactions\": 52}, {\"Date\": \"2023-08-07\", \"Transactions\": 29}, {\"Date\": \"2023-08-08\", \"Transactions\": 38}, {\"Date\": \"2023-08-09\", \"Transactions\": 40}, {\"Date\": \"2023-08-10\", \"Transactions\": 43}, {\"Date\": \"2023-08-11\", \"Transactions\": 64}, {\"Date\": \"2023-08-12\", \"Transactions\": 46}, {\"Date\": \"2023-08-14\", \"Transactions\": 25}, {\"Date\": \"2023-08-15\", \"Transactions\": 48}, {\"Date\": \"2023-08-16\", \"Transactions\": 50}, {\"Date\": \"2023-08-17\", \"Transactions\": 51}, {\"Date\": \"2023-08-18\", \"Transactions\": 67}, {\"Date\": \"2023-08-19\", \"Transactions\": 55}, {\"Date\": \"2023-08-21\", \"Transactions\": 38}, {\"Date\": \"2023-08-22\", \"Transactions\": 63}, {\"Date\": \"2023-08-23\", \"Transactions\": 60}, {\"Date\": \"2023-08-24\", \"Transactions\": 72}, {\"Date\": \"2023-08-25\", \"Transactions\": 72}, {\"Date\": \"2023-08-26\", \"Transactions\": 44}, {\"Date\": \"2023-08-28\", \"Transactions\": 37}, {\"Date\": \"2023-08-30\", \"Transactions\": 23}, {\"Date\": \"2023-08-31\", \"Transactions\": 42}, {\"Date\": \"2023-09-01\", \"Transactions\": 76}, {\"Date\": \"2023-09-02\", \"Transactions\": 64}, {\"Date\": \"2023-09-04\", \"Transactions\": 49}, {\"Date\": \"2023-09-05\", \"Transactions\": 67}, {\"Date\": \"2023-09-06\", \"Transactions\": 61}, {\"Date\": \"2023-09-07\", \"Transactions\": 46}, {\"Date\": \"2023-09-08\", \"Transactions\": 72}, {\"Date\": \"2023-09-09\", \"Transactions\": 58}, {\"Date\": \"2023-09-11\", \"Transactions\": 75}, {\"Date\": \"2023-09-12\", \"Transactions\": 67}, {\"Date\": \"2023-09-13\", \"Transactions\": 63}, {\"Date\": \"2023-09-14\", \"Transactions\": 65}, {\"Date\": \"2023-09-15\", \"Transactions\": 79}, {\"Date\": \"2023-09-16\", \"Transactions\": 46}, {\"Date\": \"2023-09-18\", \"Transactions\": 27}, {\"Date\": \"2023-09-19\", \"Transactions\": 69}, {\"Date\": \"2023-09-20\", \"Transactions\": 67}, {\"Date\": \"2023-09-21\", \"Transactions\": 67}, {\"Date\": \"2023-09-22\", \"Transactions\": 111}, {\"Date\": \"2023-09-23\", \"Transactions\": 58}, {\"Date\": \"2023-09-25\", \"Transactions\": 75}, {\"Date\": \"2023-09-26\", \"Transactions\": 65}, {\"Date\": \"2023-09-27\", \"Transactions\": 75}, {\"Date\": \"2023-09-28\", \"Transactions\": 80}, {\"Date\": \"2023-09-29\", \"Transactions\": 103}, {\"Date\": \"2023-09-30\", \"Transactions\": 70}, {\"Date\": \"2023-10-02\", \"Transactions\": 34}, {\"Date\": \"2023-10-03\", \"Transactions\": 65}, {\"Date\": \"2023-10-04\", \"Transactions\": 74}, {\"Date\": \"2023-10-05\", \"Transactions\": 94}, {\"Date\": \"2023-10-06\", \"Transactions\": 116}, {\"Date\": \"2023-10-07\", \"Transactions\": 85}, {\"Date\": \"2023-10-09\", \"Transactions\": 38}, {\"Date\": \"2023-10-10\", \"Transactions\": 90}, {\"Date\": \"2023-10-11\", \"Transactions\": 78}, {\"Date\": \"2023-10-12\", \"Transactions\": 82}, {\"Date\": \"2023-10-13\", \"Transactions\": 74}, {\"Date\": \"2023-10-14\", \"Transactions\": 70}, {\"Date\": \"2023-10-16\", \"Transactions\": 35}, {\"Date\": \"2023-10-17\", \"Transactions\": 85}, {\"Date\": \"2023-10-18\", \"Transactions\": 77}, {\"Date\": \"2023-10-19\", \"Transactions\": 77}, {\"Date\": \"2023-10-20\", \"Transactions\": 86}, {\"Date\": \"2023-10-21\", \"Transactions\": 62}, {\"Date\": \"2023-10-23\", \"Transactions\": 42}, {\"Date\": \"2023-10-24\", \"Transactions\": 73}, {\"Date\": \"2023-10-25\", \"Transactions\": 72}, {\"Date\": \"2023-10-26\", \"Transactions\": 92}, {\"Date\": \"2023-10-27\", \"Transactions\": 104}, {\"Date\": \"2023-10-28\", \"Transactions\": 65}, {\"Date\": \"2023-10-30\", \"Transactions\": 96}, {\"Date\": \"2023-10-31\", \"Transactions\": 63}, {\"Date\": \"2023-11-01\", \"Transactions\": 76}, {\"Date\": \"2023-11-02\", \"Transactions\": 83}, {\"Date\": \"2023-11-03\", \"Transactions\": 100}, {\"Date\": \"2023-11-04\", \"Transactions\": 87}, {\"Date\": \"2023-11-06\", \"Transactions\": 101}, {\"Date\": \"2023-11-07\", \"Transactions\": 90}, {\"Date\": \"2023-11-08\", \"Transactions\": 99}, {\"Date\": \"2023-11-09\", \"Transactions\": 118}, {\"Date\": \"2023-11-10\", \"Transactions\": 125}, {\"Date\": \"2023-11-11\", \"Transactions\": 93}, {\"Date\": \"2023-11-13\", \"Transactions\": 83}, {\"Date\": \"2023-11-14\", \"Transactions\": 104}, {\"Date\": \"2023-11-15\", \"Transactions\": 104}, {\"Date\": \"2023-11-16\", \"Transactions\": 124}, {\"Date\": \"2023-11-17\", \"Transactions\": 136}, {\"Date\": \"2023-11-18\", \"Transactions\": 103}, {\"Date\": \"2023-11-20\", \"Transactions\": 98}, {\"Date\": \"2023-11-21\", \"Transactions\": 96}, {\"Date\": \"2023-11-22\", \"Transactions\": 130}, {\"Date\": \"2023-11-23\", \"Transactions\": 130}, {\"Date\": \"2023-11-24\", \"Transactions\": 109}, {\"Date\": \"2023-11-25\", \"Transactions\": 73}, {\"Date\": \"2023-11-27\", \"Transactions\": 56}, {\"Date\": \"2023-11-28\", \"Transactions\": 114}, {\"Date\": \"2023-11-29\", \"Transactions\": 126}, {\"Date\": \"2023-11-30\", \"Transactions\": 99}, {\"Date\": \"2023-12-01\", \"Transactions\": 118}, {\"Date\": \"2023-12-02\", \"Transactions\": 114}, {\"Date\": \"2023-12-04\", \"Transactions\": 62}, {\"Date\": \"2023-12-05\", \"Transactions\": 116}, {\"Date\": \"2023-12-06\", \"Transactions\": 110}, {\"Date\": \"2023-12-07\", \"Transactions\": 104}, {\"Date\": \"2023-12-08\", \"Transactions\": 113}, {\"Date\": \"2023-12-09\", \"Transactions\": 41}]}}, {\"mode\": \"vega-lite\"});\n",
       "</script>"
      ],
      "text/plain": [
       "alt.Chart(...)"
      ]
     },
     "metadata": {},
     "output_type": "display_data"
    }
   ],
   "source": [
    "line_chart = alt.Chart(daily_transactions).mark_line().encode(\n",
    "    x=alt.X('Date:T', title='Date'),\n",
    "    y=alt.Y('Transactions:Q', title='Number of Transactions'),\n",
    "    tooltip=[\n",
    "        alt.Tooltip('Date', title='Date'),\n",
    "        alt.Tooltip('Transactions', title='Number of Transactions')\n",
    "    ]\n",
    ").properties(\n",
    "    title='Daily Transaction Volume Over Time'\n",
    ").interactive()\n",
    "line_chart.show()\n",
    "line_chart.save('../visuals/After_Cleaning/Recommendation_Model/EDA/daily_transaction_volume.json')"
   ]
  },
  {
   "cell_type": "markdown",
   "id": "2d94ddec",
   "metadata": {},
   "source": [
    "## Customer-Product Relationship (Simple Market Basket Analysis)"
   ]
  },
  {
   "cell_type": "markdown",
   "id": "70106ade",
   "metadata": {},
   "source": [
    "### Find pairs of products purchased together most frequently"
   ]
  },
  {
   "cell_type": "code",
   "execution_count": 39,
   "id": "eb14aa5d",
   "metadata": {},
   "outputs": [],
   "source": [
    "from collections import defaultdict\n",
    "from itertools import combinations"
   ]
  },
  {
   "cell_type": "code",
   "execution_count": 40,
   "id": "5602f26b",
   "metadata": {},
   "outputs": [
    {
     "name": "stdout",
     "output_type": "stream",
     "text": [
      "\n",
      "Top 5 most frequently purchased product pairs:\n",
      "  - JUMBO BAG PINK POLKADOT & JUMBO BAG RED RETROSPOT: 546 times\n",
      "  - GREEN REGENCY TEACUP AND SAUCER & ROSES REGENCY TEACUP AND SAUCER : 541 times\n",
      "  - ALARM CLOCK BAKELIKE GREEN & ALARM CLOCK BAKELIKE RED : 530 times\n",
      "  - LUNCH BAG PINK POLKADOT & LUNCH BAG RED RETROSPOT: 523 times\n",
      "  - LUNCH BAG  BLACK SKULL. & LUNCH BAG RED RETROSPOT: 517 times\n"
     ]
    }
   ],
   "source": [
    "product_pairs = Recommendation_df.groupby('InvoiceNo')['Description'].apply(list)\n",
    "\n",
    "# Count pair frequencies\n",
    "frequent_pairs = defaultdict(int)\n",
    "\n",
    "for products in product_pairs:\n",
    "    unique_products = sorted(set(products))  # Optional: remove duplicates per invoice\n",
    "    for pair in combinations(unique_products, 2):\n",
    "        frequent_pairs[pair] += 1\n",
    "\n",
    "# Get top 5 most frequent pairs\n",
    "top_pairs = sorted(frequent_pairs.items(), key=lambda item: item[1], reverse=True)[:5]\n",
    "\n",
    "# Display results\n",
    "print(\"\\nTop 5 most frequently purchased product pairs:\")\n",
    "for (prod1, prod2), count in top_pairs:\n",
    "    print(f\"  - {prod1} & {prod2}: {count} times\")"
   ]
  },
  {
   "cell_type": "markdown",
   "id": "fc50e130",
   "metadata": {},
   "source": [
    "## Save Recommendation Dataset"
   ]
  },
  {
   "cell_type": "code",
   "execution_count": 41,
   "id": "0f7b6cdd",
   "metadata": {},
   "outputs": [],
   "source": [
    "Recommendation_df.to_csv('../data/processed/Recommendation/Recommendation_model.csv',index=False)"
   ]
  },
  {
   "cell_type": "markdown",
   "id": "9b4f4f76",
   "metadata": {},
   "source": [
    "## Summary: Frequent Product Pair Analysis\n",
    "This analysis identifies the top 5 most frequently purchased product pairs from transactional data in Recommendation_df. Here's how it works:\n",
    "\n",
    "### Grouping by Invoice:\n",
    "- All products bought together in each invoice (InvoiceNo) are grouped into lists using the Description field.\n",
    "\n",
    "### Generating Product Pairs:\n",
    "- For each invoice, unique product combinations (pairs) are generated using itertools.combinations, ensuring no duplicate pairs per invoice.\n",
    "\n",
    "### Counting Frequency:\n",
    "- A defaultdict is used to count how many times each product pair appears across all invoices, making the counting efficient.\n",
    "\n",
    "### Sorting and Selection:\n",
    "- The product pairs are sorted in descending order of frequency, and the top 5 most frequent pairs are selected.\n",
    "\n",
    "### Output:\n",
    "- The script prints out the top 5 pairs with the number of times they were purchased together."
   ]
  }
 ],
 "metadata": {
  "kernelspec": {
   "display_name": "Python 3",
   "language": "python",
   "name": "python3"
  },
  "language_info": {
   "codemirror_mode": {
    "name": "ipython",
    "version": 3
   },
   "file_extension": ".py",
   "mimetype": "text/x-python",
   "name": "python",
   "nbconvert_exporter": "python",
   "pygments_lexer": "ipython3",
   "version": "3.12.11"
  }
 },
 "nbformat": 4,
 "nbformat_minor": 5
}
